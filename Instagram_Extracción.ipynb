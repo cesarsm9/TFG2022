{
 "cells": [
  {
   "cell_type": "markdown",
   "id": "47a6a402",
   "metadata": {},
   "source": [
    "# EXTRACCIÓN DE LOS DATOS DE INSTAGRAM"
   ]
  },
  {
   "cell_type": "markdown",
   "id": "391da74f",
   "metadata": {},
   "source": [
    "Para la red social de Instagram, se extraerán datos con dos scripts diferentes.<br>\n",
    "- Script para sacar información de los perfiles e introducirlos en la BBDD\n",
    "- Script para sacar información de los posts e introducirlos en la BBDD"
   ]
  },
  {
   "cell_type": "markdown",
   "id": "5c72dad4",
   "metadata": {},
   "source": [
    "## PSEUDOCÓDIGO"
   ]
  },
  {
   "cell_type": "markdown",
   "id": "da0d4c8b",
   "metadata": {},
   "source": [
    "**El pseudocódigo del programa será de la siguiente manera**\n",
    "\n",
    "Abrir Base de Datos\n",
    "Seleccionar y extraer los datos de la tabla donde se almacenan los enlaces de los diferentes enlaces a los canales de Instagram<br><br>\n",
    "Extraer las cuentas de Instagram<br><br>\n",
    "Para cada una de las cuentas:<br>\n",
    "   &emsp; extraer los datos de la cuentas<br>\n",
    "   &emsp; introducir los datos en la tabla correspondiente<br><br>\n",
    "   &emsp; Para cada uno de los mensajes de la cuenta:<br>\n",
    "   &emsp; &emsp; extraer los datos de los mensajes<br>\n",
    "   &emsp; &emsp; introducir los datos en la tabla correspondiente<br>"
   ]
  },
  {
   "cell_type": "markdown",
   "id": "16eb51c9",
   "metadata": {},
   "source": [
    "## LIBRERÍAS"
   ]
  },
  {
   "cell_type": "markdown",
   "id": "7b02a5e2",
   "metadata": {},
   "source": [
    "Para la correcta extracción y recopilación de los datos, se aplicarán diferentes librerías, pero las librerias especializadas son:<br><br>\n",
    "**__INSTAGRAM_SCRAPER__**:Una librería especializada en el uso de las APIS de instagram para la extracción de cierta infromación de la red social. Su uso es limitado pero más libre y moldeable que una app de pago o pre-constuida. Está desarrollada por el usuario de Github arc298 y su código se encuentra __[aquí](https://github.com/arc298/instagram-scraper)__.<br><br>\n",
    "**__IGRAM_SCRAPER__**: Similar a la anterior, es una librería especializada en el uso de las APIS de instagram para la extracción de cierta infromación de la red social. Su uso es limitado pero más libre y moldeable que una app de pago o pre-constuida. Está desarrollada por el usuario de Github realsirjoe y su código se encuentra __[aquí](https://github.com/realsirjoe/instagram-scraper)__.<br><br>\n",
    "**__SELENIUM__**: Es un entorno de pruebas de software para aplicaciones basadas en la web. Su función principal es realizar web scraping de manera automatizada mediante diferentes métodos posibles como HTML, CSS, XPATH, etc..<br><br>Esto es gracias a la implantación de un driver que automatizará el navegador y que se puede descargar __[aquí](https://selenium-python.readthedocs.io/installation.html)__.<br><br>\n",
    "La documentación de Selenium para Python se puede consultar __[aquí](https://selenium-python.readthedocs.io/getting-started.htmly)__.<br><br>\n",
    "\n",
    "Otras librerías que se usan son:<br><br>\n",
    "- **Pandas** : Manipulación de datos\n",
    "- **Mysql.connector**: Conexión con la base de datos\n",
    "- **Codecs**: Normalización de caracteres\n",
    "- **Time**: Manipula y da información de la cantidad de tiempo\n",
    "- **Datetime**: Facilita la manipulación de datos tipo fecha\n"
   ]
  },
  {
   "cell_type": "markdown",
   "id": "9a30a45e",
   "metadata": {},
   "source": [
    "## PASOS PREVIOS"
   ]
  },
  {
   "cell_type": "markdown",
   "id": "246082cf",
   "metadata": {},
   "source": [
    "Para realizar estos scripts, primeramente se añaden dos tablas a la BBDD con la siguiente sintaxis:\n",
    "\n",
    "- **TABLA PARA PERFILES DE INSTAGRAM**:\n",
    "\n",
    "CREATE TABLE IF NOT EXISTS perfiles_instagram(<br>\n",
    "    &emsp; Universidad VARCHAR(100),<br>\n",
    "\t&emsp; Abreviatura VARCHAR(20),<br>\n",
    "    &emsp; Perfil VARCHAR(200),<br>\n",
    "    &emsp; Nombre VARCHAR(200),<br>\n",
    "    &emsp; Verificado BOOL,<br>\n",
    "    &emsp; Biografia VARCHAR(500),<br>\n",
    "    &emsp; Url VARCHAR(100),<br>\n",
    "    &emsp; Seguidores BIGINT,<br>\n",
    "    &emsp; Seguidos BIGINT,<br>\n",
    "    &emsp; Posts BIGINT,<br>\n",
    "    &emsp; Cuenta_profesional BOOL,<br>\n",
    "    &emsp; Facebook_conectado VARCHAR(100),<br>\n",
    "    &emsp; Email VARCHAR(100),<br>\n",
    "    &emsp; Telefono VARCHAR(100),<br>\n",
    "    &emsp; PRIMARY KEY(Universidad)<br>\n",
    ")ENGINE = INNODB;<br>\n",
    "\n",
    "\n",
    "\n",
    "- **TABLA PARA LOS POSTS DE INSTAGRAM**:\n",
    "\n",
    "CREATE TABLE IF NOT EXISTS posts_instagram(<br>\n",
    "    &emsp; Universidad VARCHAR(100),<br>\n",
    "\t&emsp; Id_post VARCHAR(20),<br>\n",
    "    &emsp; Fecha TIMESTAMP,<br>\n",
    "    &emsp; Tipo_publicacion VARCHAR(50),<br>\n",
    "    &emsp; n_urls int(2),<br>\n",
    "    &emsp; Biografia TEXT,<br>\n",
    "    &emsp; Likes BIGINT,<br>\n",
    "    &emsp; Comentarios BIGINT,<br>\n",
    "    &emsp; Tags TEXT,<br>\n",
    "    &emsp; Visualizaciones BIGINT<br>\n",
    ")ENGINE = INNODB;<br>\n",
    "\n",
    "\n"
   ]
  },
  {
   "cell_type": "markdown",
   "id": "68d437c3",
   "metadata": {},
   "source": [
    "## CÓDIGO"
   ]
  },
  {
   "cell_type": "markdown",
   "id": "aaaed901",
   "metadata": {},
   "source": [
    "Ya que se tiene todo los requisitos, ahora se abre la conexión con la Base de Datos y se empieza a codificar. <br>\n",
    "Lo primero de todo es importar las librerias que necesitamos, para este caso, usaremos la libreía **instagram_scraper** para recoger los datos de los perfiles y la librería de **igram_scraper** para obtener los datos de los posts"
   ]
  },
  {
   "cell_type": "code",
   "execution_count": null,
   "id": "44c92d3d",
   "metadata": {},
   "outputs": [],
   "source": [
    "#pip install igramscraper\n"
   ]
  },
  {
   "cell_type": "code",
   "execution_count": null,
   "id": "11be197c",
   "metadata": {},
   "outputs": [],
   "source": [
    "#pip install instagram_scraper"
   ]
  },
  {
   "cell_type": "code",
   "execution_count": null,
   "id": "d5c5c63f",
   "metadata": {},
   "outputs": [],
   "source": [
    "import pandas as pd\n",
    "from random import randint\n",
    "import datetime\n",
    "import pandas as pd\n",
    "import mysql.connector\n",
    "import codecs\n",
    "from igramscraper.instagram import Instagram\n",
    "import instagram_scraper\n",
    "import time"
   ]
  },
  {
   "cell_type": "markdown",
   "id": "1226c8fc",
   "metadata": {},
   "source": [
    "Acto seguido, se abre la conexión de la base de Datos con Python "
   ]
  },
  {
   "cell_type": "code",
   "execution_count": null,
   "id": "c524378e",
   "metadata": {},
   "outputs": [],
   "source": [
    "database = mysql.connector.connect(\n",
    "    host= \"localhost\",\n",
    "    user= \"root\",\n",
    "    passwd= \"\",\n",
    "    database= \"TFG\",\n",
    "    use_unicode = True, \n",
    "    charset=\"utf8mb4\",\n",
    "    collation = \"utf8mb4_general_ci\"\n",
    ")\n",
    "database.set_charset_collation(\"utf8mb4\",\"utf8mb4_general_ci\")\n",
    "\n",
    "cursor= database.cursor()"
   ]
  },
  {
   "cell_type": "markdown",
   "id": "fe1e34b6",
   "metadata": {},
   "source": [
    "Se extraen las cuentas de Twitter de la tabla de la Base de Datos **\"universidades\"**"
   ]
  },
  {
   "cell_type": "code",
   "execution_count": null,
   "id": "5e30bb70",
   "metadata": {},
   "outputs": [],
   "source": [
    "datos = pd.read_sql(\"SELECT * FROM universidades\",database)\n",
    "cuentas_instagram = datos[\"Instagram\"].tolist()\n",
    "abreviaturas = datos[\"Abreviatura\"].tolist()\n",
    "print(datos.info())"
   ]
  },
  {
   "cell_type": "markdown",
   "id": "3be68967",
   "metadata": {},
   "source": [
    "Como no todas las universidades tienen cuenta de instagram, se pasará a limpiar la lista."
   ]
  },
  {
   "cell_type": "code",
   "execution_count": null,
   "id": "e9e7d69d",
   "metadata": {},
   "outputs": [],
   "source": [
    "for a in range(len(cuentas_instagram)-1,-1,-1):\n",
    "    if type(cuentas_instagram[a]) != str:\n",
    "        cuentas_instagram.remove(cuentas_instagram[a])\n",
    "        abreviaturas.remove(abreviaturas[a])\n",
    "print(cuentas_instagram)"
   ]
  },
  {
   "cell_type": "markdown",
   "id": "bb9bb3a9",
   "metadata": {},
   "source": [
    "Empezamos recogiendo la información de los perfiles."
   ]
  },
  {
   "cell_type": "markdown",
   "id": "df14c104",
   "metadata": {},
   "source": [
    "Ahora paseremos a identificarnos en Instagram, ya que debido a la política de Meta, sólo se accede al contenido de la red social mediante autentificación."
   ]
  },
  {
   "cell_type": "code",
   "execution_count": null,
   "id": "c768de97",
   "metadata": {},
   "outputs": [],
   "source": [
    "instagram = Instagram()\n",
    "instagram.with_credentials('ces_v0t', 'cesar_vot')\n",
    "instagram.login()"
   ]
  },
  {
   "cell_type": "markdown",
   "id": "ffa0f720",
   "metadata": {},
   "source": [
    "Acto seguido se pasa a elaborar el bucle que recogerá los datos de los perfiles"
   ]
  },
  {
   "cell_type": "code",
   "execution_count": null,
   "id": "7fd95b4a",
   "metadata": {},
   "outputs": [],
   "source": [
    "for a in range(len(cuentas_instagram)):\n",
    "    if a == 30 or a == 50:\n",
    "        print(\"descanso para evitar phishing\")\n",
    "        time.sleep(30)\n",
    "\n",
    "        perfil = instagram.get_account(\"https://www.instagram.com/universidadcarlosiiidemadrid/\")\n",
    "        print(perfil)\n",
    "\n",
    "        datos_perfil = [perfil,\n",
    "        abreviaturas[a],\n",
    "        perfil.username,\n",
    "        perfil.full_name,\n",
    "        perfil.is_verified,\n",
    "        perfil.biography,\n",
    "        perfil.external_url,\n",
    "        perfil.followed_by_count,\n",
    "        perfil.follows_count,\n",
    "        perfil.media_count,\n",
    "        perfil.is_business_account,\n",
    "        perfil.connected_fb_page,\n",
    "        perfil.business_phone_number,\n",
    "        perfil.connected_fb_page]\n",
    "\n",
    "        cursor.execute(\"INSERT INTO perfiles_instagram VALUES(%s,%s,%s,%s,%s,%s,%s,%s,%s,%s,%s,%s,%s,%s)\",datos_perfil)\n",
    "        database.commit()"
   ]
  },
  {
   "cell_type": "markdown",
   "id": "69664cf8",
   "metadata": {},
   "source": [
    "Despues de extraer los perfiles, vamos a extraer los post con **instagram_scraper**<br><br>\n",
    "Lo primero que hacemos ahora también, es identificarnos."
   ]
  },
  {
   "cell_type": "code",
   "execution_count": null,
   "id": "6d0f734b",
   "metadata": {},
   "outputs": [],
   "source": [
    "args = {\"login_user\": \"ces_v0t\", \"login_pass\": \"cesar_vot\"}\n",
    "insta_scraper = instagram_scraper.InstagramScraper(**args)\n",
    "insta_scraper.authenticate_with_login()\n",
    "print(\"logged\")"
   ]
  },
  {
   "cell_type": "markdown",
   "id": "a1a1ae34",
   "metadata": {},
   "source": [
    "Una vez identificado, se pasa a la extracción de datos"
   ]
  },
  {
   "cell_type": "code",
   "execution_count": null,
   "id": "991cfdca",
   "metadata": {},
   "outputs": [],
   "source": [
    "for a, perfil in enumerate(cuentas_instagram):\n",
    "    shared_data = insta_scraper.get_shared_data_userinfo(username=perfil) # se saca el perfil\n",
    "    print(perfil)\n",
    "    for i,item in enumerate(insta_scraper.query_media_gen(shared_data)): #empieza el bucle\n",
    "        datos_post = [\n",
    "        perfil,#cuenta\n",
    "        item[\"id\"],#id\n",
    "        item[\"taken_at_timestamp\"],#fecha\n",
    "        item[\"__typename\"],\n",
    "        len(item[\"urls\"])]# se sacan los elementos\n",
    "        try:#el try es por si ese dato no está, que no de error\n",
    "            datos_post.append(item[\"edge_media_to_caption\"][\"edges\"][0][\"node\"][\"text\"])#descripción\n",
    "        except:\n",
    "            datos_post.append(\"null\")\n",
    "        datos_post.append(item[\"edge_media_preview_like\"][\"count\"])#num likes\n",
    "        datos_post.append(item[\"edge_media_to_comment\"][\"count\"])#num comentarios\n",
    "        try:\n",
    "            datos_post.append(item[\"tags\"])#hastag\n",
    "        except:\n",
    "            datos_post.append([\"null\"])\n",
    "        if item[\"is_video\"] == True:#es video\n",
    "            datos_post.append(item[\"video_view_count\"])#visualozaciones\n",
    "        else:\n",
    "            datos_post.append(None)\n",
    "        datos_post[2] = datetime.datetime.fromtimestamp(datos_post[2])#conversion fecha\n",
    "        datos_post[-2] = \" \".join(datos_post[-2])\n",
    "        datos_post= tuple(datos_post)\n",
    "        cursor.execute(\"INSERT INTO posts_instagram VALUES(%s,%s,%s,%s,%s,%s,%s,%s,%s,%s)\",datos_post)# se mete en la base de datos\n",
    "        database.commit()\n",
    "        print(i+1, end = \" \")\n",
    "        if i%12 == 0: #antiphising\n",
    "            time.sleep(randint(1,10))"
   ]
  },
  {
   "cell_type": "markdown",
   "id": "fafa951e",
   "metadata": {},
   "source": [
    "### Con este pequeño script están los datos de la red social Instagram extraidos.<br><br> Duración aproximada 32h"
   ]
  },
  {
   "cell_type": "code",
   "execution_count": null,
   "id": "b48961d9",
   "metadata": {},
   "outputs": [],
   "source": []
  }
 ],
 "metadata": {
  "kernelspec": {
   "display_name": "Python 3.9.5 64-bit",
   "language": "python",
   "name": "python3"
  },
  "language_info": {
   "codemirror_mode": {
    "name": "ipython",
    "version": 3
   },
   "file_extension": ".py",
   "mimetype": "text/x-python",
   "name": "python",
   "nbconvert_exporter": "python",
   "pygments_lexer": "ipython3",
   "version": "3.9.5"
  },
  "vscode": {
   "interpreter": {
    "hash": "9b46891482e43448fca434b48535568d1fb045c476689b999f0b2c31bd471c5b"
   }
  }
 },
 "nbformat": 4,
 "nbformat_minor": 5
}
