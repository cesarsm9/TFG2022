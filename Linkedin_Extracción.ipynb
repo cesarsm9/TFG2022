{
 "cells": [
  {
   "cell_type": "markdown",
   "id": "47a6a402",
   "metadata": {},
   "source": [
    "# EXTRACCIÓN DE LOS DATOS DE LINKEDIN"
   ]
  },
  {
   "cell_type": "markdown",
   "id": "391da74f",
   "metadata": {},
   "source": [
    "Para la red social de Linkedin, se extraerán datos con dos scripts diferentes.<br>\n",
    "- Script para sacar información de los perfiles e introducirlos en la BBDD\n",
    "- Script para sacar información de los posts e introducirlos en la BBDD"
   ]
  },
  {
   "cell_type": "markdown",
   "id": "5c72dad4",
   "metadata": {},
   "source": [
    "## PSEUDOCÓDIGO"
   ]
  },
  {
   "cell_type": "markdown",
   "id": "da0d4c8b",
   "metadata": {},
   "source": [
    "**El pseudocódigo del programa será de la siguiente manera**\n",
    "\n",
    "Abrir Base de Datos\n",
    "Seleccionar y extraer los datos de la tabla donde se almacenan los enlaces de los diferentes enlaces a los perfiles de Linkedin<br><br>\n",
    "Extraer las cuentas de Linkedin<br><br>\n",
    "Para cada una de las cuentas:<br>\n",
    "   &emsp; extraer los datos de la cuentas<br>\n",
    "   &emsp; introducir los datos en la tabla correspondiente<br><br>\n",
    "   &emsp; Para cada uno de los mensajes de la cuenta:<br>\n",
    "   &emsp; &emsp; extraer los datos de los mensajes<br>\n",
    "   &emsp; &emsp; introducir los datos en la tabla correspondiente<br>"
   ]
  },
  {
   "cell_type": "markdown",
   "id": "16eb51c9",
   "metadata": {},
   "source": [
    "## LIBRERÍAS"
   ]
  },
  {
   "cell_type": "markdown",
   "id": "7b02a5e2",
   "metadata": {},
   "source": [
    "Para la correcta extracción y recopilación de los datos, se aplicarán diferentes librerías pero la principal es:<br><br>\n",
    "\n",
    "**__SELENIUM__**: Es un entorno de pruebas de software para aplicaciones basadas en la web. Su función principal es realizar web scraping de manera automatizada mediante diferentes métodos posibles como HTML, CSS, XPATH, etc..<br><br>Esto es gracias a la implantación de un driver que automatizará el navegador y que se puede descargar __[aquí](https://selenium-python.readthedocs.io/installation.html)__.<br><br>\n",
    "La documentación de Selenium para Python se puede consultar __[aquí](https://selenium-python.readthedocs.io/getting-started.htmly)__.<br>\n",
    "\n",
    "La librería selenium no es como otras librerías usadas en otras redes sociales que son especializadas en la extracción de datos en esa red social, selenium recorre la web y es el programador el que recoge los datos.<br>\n",
    "\n",
    "Otras librerías que se usan son:\n",
    "- **Pandas** : Manipulación de datos\n",
    "- **Mysql.connector**: Conexión con la base de datos\n",
    "- **Codecs**: Normalización de caracteres\n",
    "- **Time**: Manipula y da información de la cantidad de tiempo\n",
    "- **Datetime**: Facilita la manipulación de datos tipo fecha\n"
   ]
  },
  {
   "cell_type": "markdown",
   "id": "9a30a45e",
   "metadata": {},
   "source": [
    "## PASOS PREVIOS"
   ]
  },
  {
   "cell_type": "markdown",
   "id": "246082cf",
   "metadata": {},
   "source": [
    "Para realizar estos scripts, primeramente se añaden dos tablas a la BBDD con la siguiente sintaxis:\n",
    "\n",
    "- **TABLA PARA PERFILES DE LINKEDIN**:<br>\n",
    "\n",
    "CREATE TABLE IF NOT EXISTS perfiles_linkedin(<br>\n",
    "    &emsp; Url VARCHAR(200),<br>\n",
    "    &emsp; Tipo VARCHAR(15),<br>\n",
    "    &emsp; Nombre VARCHAR(100),<br>\n",
    "    &emsp; Seguidores BIGINT,<br>\n",
    "\t&emsp; Resumen TEXT,<br>\n",
    "    &emsp; Sector VARCHAR(200),<br>\n",
    "    &emsp; Tamaño VARCHAR(50),<br>\n",
    "    &emsp; Empleados BIGINT,<br>\n",
    "    &emsp; Sede VARCHAR(100),<br>\n",
    "    &emsp; Fundacion BIGINT,<br>\n",
    "    &emsp; Especialidades TEXT,<br>\n",
    "    &emsp; Antiguos_empleados BIGINT,<br>\n",
    "    &emsp; Donde_viven TEXT,<br>\n",
    "    &emsp; Donde_trabajan TEXT,<br>\n",
    "    &emsp; Que_hacen TEXT,<br>\n",
    "    &emsp; Que_estudiaron TEXT,<br>\n",
    "    &emsp; Aptitudes TEXT,<br>\n",
    "    &emsp; Conexion TEXT<br>\n",
    ")ENGINE = INNODB;<br>\n",
    "\n",
    "\n",
    "\n",
    "\n",
    "- **TABLA PARA LOS POSTS DE LINKEDIN**:<br>\n",
    "\n",
    "CREATE TABLE IF NOT EXISTS posts_linkedin(<br>\n",
    "    &emsp; id INT,<br>\n",
    "    &emsp; Url VARCHAR(200),<br>\n",
    "    &emsp; Nombre VARCHAR(200),<br>\n",
    "    &emsp; Fecha DATETIME,<br>\n",
    "    &emsp; Texto TEXT,<br>\n",
    "    &emsp; Videos INT,<br>\n",
    "    &emsp; Fotos INT,<br>\n",
    "    &emsp; Articulos INT,<br>\n",
    "    &emsp; Reacciones INT,<br>\n",
    "    &emsp; Comentarios INT,<br>\n",
    "    &emsp; Compartido INT<br>\n",
    ")ENGINE = INNODB;<br>\n",
    "\n",
    "\n"
   ]
  },
  {
   "cell_type": "markdown",
   "id": "68d437c3",
   "metadata": {},
   "source": [
    "## CÓDIGO"
   ]
  },
  {
   "cell_type": "markdown",
   "id": "aaaed901",
   "metadata": {},
   "source": [
    "Ya que se tiene todo los requisitos, ahora se abre la conexión con la Base de Datos y se empieza a codificar. <br>\n",
    "Lo primero de todo es importar las librerias que necesitamos, serán varias."
   ]
  },
  {
   "cell_type": "code",
   "execution_count": null,
   "id": "d5c5c63f",
   "metadata": {},
   "outputs": [],
   "source": [
    "import pandas as pd\n",
    "import mysql.connector\n",
    "import codecs\n",
    "from time import sleep\n",
    "from selenium import webdriver\n",
    "from selenium.webdriver.chrome.options import Options\n",
    "from selenium.webdriver.common.by import By\n",
    "from selenium.webdriver.support.ui import WebDriverWait\n",
    "from selenium.webdriver.support import expected_conditions as EC"
   ]
  },
  {
   "cell_type": "markdown",
   "id": "1226c8fc",
   "metadata": {},
   "source": [
    "Acto seguido, se abre la conexión de la base de Datos con Python "
   ]
  },
  {
   "cell_type": "code",
   "execution_count": null,
   "id": "c524378e",
   "metadata": {},
   "outputs": [],
   "source": [
    "database = mysql.connector.connect(\n",
    "    host= \"localhost\",\n",
    "    user= \"root\",\n",
    "    passwd= \"\",\n",
    "    database= \"TFG\",\n",
    "    use_unicode = True, \n",
    "    charset=\"utf8mb4\",\n",
    "    collation = \"utf8mb4_general_ci\"\n",
    ")\n",
    "database.set_charset_collation(\"utf8mb4\",\"utf8mb4_general_ci\")\n",
    "\n",
    "cursor= database.cursor()"
   ]
  },
  {
   "cell_type": "markdown",
   "id": "fe1e34b6",
   "metadata": {},
   "source": [
    "Se extraen las cuentas de Linkedin de la tabla de la Base de Datos **\"universidades\"**"
   ]
  },
  {
   "cell_type": "code",
   "execution_count": null,
   "id": "5e30bb70",
   "metadata": {},
   "outputs": [],
   "source": [
    "datos = pd.read_sql(\"SELECT * FROM universidades\",database)\n",
    "cuentas_instagram = datos[\"Instagram\"].tolist()\n",
    "universidad = datos[\"Universidad\"].tolist()\n",
    "print(datos.info())"
   ]
  },
  {
   "cell_type": "markdown",
   "id": "3be68967",
   "metadata": {},
   "source": [
    "Como no todas las universidades tienen cuenta de linkedin, se pasará a limpiar la lista."
   ]
  },
  {
   "cell_type": "code",
   "execution_count": null,
   "id": "e9e7d69d",
   "metadata": {},
   "outputs": [],
   "source": [
    "for a in range(len(cuentas_linkedin)-1,-1,-1):\n",
    "    if type(cuentas_linkedin[a]) != str:\n",
    "        cuentas_linkedin.remove(cuentas_linkedin[a])\n",
    "        universidad.remove(universidad[a])\n",
    "print( len(cuentas_linkedin),len(universidad))"
   ]
  },
  {
   "cell_type": "markdown",
   "id": "bb9bb3a9",
   "metadata": {},
   "source": [
    "Empezamos creando el driver y las opciones del driver."
   ]
  },
  {
   "cell_type": "code",
   "execution_count": null,
   "id": "f31af138",
   "metadata": {},
   "outputs": [],
   "source": [
    "opts= Options()\n",
    "opts.add_argument(\"--user-agent=Mozilla/5.0 (iPad; CPU OS 6_0 like Mac OS X) AppleWebKit/536.26 (KHTML, like Gecko) Version/6.0 Mobile/10A5355d Safari/8536.25\")\n",
    "opts.add_argument(\"--start-maximized\")\n",
    "opts.add_experimental_option('excludeSwitches', ['enable-logging'])\n",
    "driver= webdriver.Chrome('./chromedriver.exe', options=opts)"
   ]
  },
  {
   "cell_type": "markdown",
   "id": "c07c4cb2",
   "metadata": {},
   "source": [
    "Ahora pasamos a recoger la información de los perfiles con el siguiente pseudocódigo, más elaborado:<br>\n",
    "    Registro en Linkedin.<br>\n",
    "    para cada universidad:<br>\n",
    "        recoger información basica<br>\n",
    "        recoger información acerca de<br>\n",
    "        recoger datos antiguos empleados<br>\n",
    "        meter datos en base de datos<br>"
   ]
  },
  {
   "cell_type": "markdown",
   "id": "ffa0f720",
   "metadata": {},
   "source": [
    "Acto seguido se pasa a elaborar el bucle que recogerá los datos de los perfiles"
   ]
  },
  {
   "cell_type": "code",
   "execution_count": null,
   "id": "7fd95b4a",
   "metadata": {},
   "outputs": [],
   "source": [
    "## AUTENTIFICACIÓN\n",
    "driver.get(cuentas_linkedin[0])\n",
    "driver.implicitly_wait(3)\n",
    "driver.find_element_by_css_selector('button.promo__dismiss').click()\n",
    "try:\n",
    "    driver.find_element(By.XPATH, \"//a[@class='nav__button-secondary']\").click()\n",
    "    usuario =  driver.find_element(By.XPATH, '//input[@name=\"session_key\"]')\n",
    "    usuario.send_keys(\"100383702@alumnos.uc3m.es\")\n",
    "    password = driver.find_element(By.XPATH, '//input[@name=\"session_password\"]')\n",
    "    password.send_keys(\"PASS\")\n",
    "    driver.find_element(By.XPATH, \"//button[@class='btn__primary--large from__button--floating']\").click()\n",
    "except:\n",
    "    driver.find_element_by_css_selector('button.authwall-join-form__form-toggle--bottom.form-toggle').click()\n",
    "    usuario =  driver.find_element(By.XPATH, '//input[@name=\"session_key\"]')\n",
    "    usuario.send_keys(\"100383702@alumnos.uc3m.es\")\n",
    "    password = driver.find_element(By.XPATH, '//input[@name=\"session_password\"]')\n",
    "    password.send_keys(\"C3$999UniLINK\")\n",
    "    driver.find_element(By.XPATH, \"//button[@class='sign-in-form__submit-button']\").click()\n",
    "\n",
    "for a in range(37,len(cuentas_linkedin)): #ESTANDARIZACIÓN ENLACES\n",
    "    driver.get(cuentas_linkedin[a])re\n",
    "    tipo = cuentas_linkedin[a].index(\"/\",10)\n",
    "    if cuentas_linkedin[a][tipo+1] == \"i\" :\n",
    "        continue\n",
    "    href = cuentas_linkedin[a][cuentas_linkedin[0].index(\"/\",10):cuentas_linkedin[a].rfind(\"/\")+1]\n",
    "\n",
    "\n",
    "    ## Recoger aqui info del primer cuadrado, antes del acerca de.\n",
    "    nombre = driver.find_element(By.XPATH, \"//h1/span\").text\n",
    "    print(nombre)\n",
    "    seguidores = driver.find_elements(By.XPATH, \"//div[@class='org-top-card-summary-info-list__info-item']\")[-1].text\n",
    "    try:\n",
    "        seguidores = int(seguidores[:seguidores.index(\" \")])\n",
    "    except:\n",
    "        seguidores = seguidores[:seguidores.index(\" \")]\n",
    "        seguidres = int(seguidores.replace(\".\",\"\"))\n",
    "\n",
    "\n",
    "\n",
    "    ## Recoger datos pestaña de ACERCA DE\n",
    "\n",
    "    acerca_de = f\"//a[@href='{href}about/']\"\n",
    "    WebDriverWait(driver,100).until(EC.presence_of_element_located((By.XPATH, acerca_de ))).click()\n",
    "    n = 0\n",
    "    resumen = driver.find_element_by_css_selector(\"p.break-words.white-space-pre-wrap.mb5.text-body-small.t-black--light\").text\n",
    "\n",
    "    tel = driver.find_elements_by_css_selector(\"dd.mb4.text-body-small.t-black--light\")[1].text\n",
    "    if tel[-1].isnumeric():\n",
    "        pass\n",
    "    else:\n",
    "        n = n-1\n",
    "\n",
    "    sector = driver.find_elements_by_css_selector(\"dd.mb4.text-body-small.t-black--light\")[n+2].text\n",
    "    tamano = driver.find_element_by_css_selector(\"dd.mb1.text-body-small.t-black--light\").text\n",
    "    empleados = driver.find_elements_by_css_selector(\"dd.mb4.text-body-small.t-black--light\")[n+3].text\n",
    "    try:\n",
    "        empleados = int(empleados[:empleados.index(\" \")])\n",
    "    except:\n",
    "        empleados = empleados[:empleados.index(\" \")]\n",
    "        empleados = int(empleados.replace(\".\",\"\"))\n",
    "    try:\n",
    "        sede = driver.find_elements_by_css_selector(\"dd.mb4.text-body-small.t-black--light\")[n+4].text\n",
    "    except:\n",
    "        sede = None\n",
    "    try:\n",
    "        fundacion = int(driver.find_elements_by_css_selector(\"dd.mb4.text-body-small.t-black--light\")[n+5].text)\n",
    "    except:\n",
    "        fundacion = None\n",
    "    try:\n",
    "        especialidades =  driver.find_elements_by_css_selector(\"dd.mb4.text-body-small.t-black--light\")[n+6].text\n",
    "    except:\n",
    "        especialidades = None\n",
    "    datos = [cuentas_linkedin[a],\"school\",nombre,seguidores,resumen,sector,tamano,empleados,sede,fundacion,especialidades]\n",
    "\n",
    "    \n",
    "    ## recoger datos de antiguos empleados\n",
    "\n",
    "    empleados = f\"//a[@href='{href}people/']\"\n",
    "    try:\n",
    "        WebDriverWait(driver,7).until(EC.presence_of_element_located((By.XPATH, empleados ))).click()\n",
    "    except:\n",
    "        pass\n",
    "    sleep(3)\n",
    "    antiguos_alumnos=  driver.find_element_by_xpath( \"//div[@class='display-flex full-width justify-space-between align-items-center pt5 ph5']//span\" ).get_attribute(\"textContent\").strip()\n",
    "    try:\n",
    "        antiguos_alumnos = int(antiguos_alumnos[:antiguos_alumnos.find(\"\\xa0\")])\n",
    "    except:\n",
    "        antiguos_alumnos = antiguos_alumnos[:antiguos_alumnos.find(\"\\xa0\")]\n",
    "        antiguos_alumnos = int(antiguos_alumnos.replace(\".\",\"\"))\n",
    "    datos.append(antiguos_alumnos)\n",
    "    \n",
    "    if antiguos_alumnos <1:\n",
    "        datos.extend([None,None,None,None,None,None])\n",
    "    else:\n",
    "        driver.find_element_by_xpath(\"//button[@class='org-people__show-more-button t-16 t-16--open t-black--light t-bold']\").click()\n",
    "        siguiente = True\n",
    "        while siguiente:\n",
    "            carrouseles = driver.find_elements_by_xpath( \"//div[@class='insight-container']\")\n",
    "            for lista  in carrouseles:\n",
    "                carro = \"\"\n",
    "                titulo = lista.find_element(By.XPATH,\".//h4\").text\n",
    "                if titulo == \"\":\n",
    "                    continue\n",
    "                numeros = lista.find_elements_by_xpath(\".//strong\")\n",
    "                textos = lista.find_elements(By.XPATH,\".//span[@class='org-people-bar-graph-element__category']\")\n",
    "                for i in range(len(numeros)):\n",
    "                    carro = carro + f\"{numeros[i].text} | {textos[i].text} $ \"\n",
    "                carro = carro[:-2]\n",
    "                datos.append(carro)\n",
    "            try:\n",
    "                driver.find_element_by_xpath(\"//button[@class='artdeco-pagination__button artdeco-pagination__button--next artdeco-button artdeco-button--muted artdeco-button--icon-right artdeco-button--1 artdeco-button--tertiary ember-view']\").click()\n",
    "                sleep(1)\n",
    "            except:\n",
    "                siguiente = False\n",
    "        #driver.find_element_by_css_selector('button.org-people__show-more-button t-16 t-16--open t-black--light t-bold').click()\n",
    "\n",
    "    ##meter los datos a la base de datos\n",
    "    datos = tuple(datos)\n",
    "    for dato in datos:\n",
    "        print(dato)\n",
    "    cursor.execute(\"INSERT INTO perfiles_linkedin VALUES(%s,%s,%s,%s,%s,%s,%s,%s,%s,%s,%s,%s,%s,%s,%s,%s,%s,%s)\",datos)\n",
    "    database.commit()"
   ]
  },
  {
   "cell_type": "markdown",
   "id": "69664cf8",
   "metadata": {},
   "source": [
    "Despues de extraer los perfiles, vamos a extraer los post, con el siguiente pseudocódigo:<br>\n",
    "\n",
    "Registro en Linkedin.<br>\n",
    "    para cada universidad:<br>\n",
    "        recoger información basica<br>\n",
    "        recoger información post<br>\n",
    "        texto, videos, imagenes, datos, comentarios, reacciones<br>\n",
    "        meter datos en base de datos<br>"
   ]
  },
  {
   "cell_type": "code",
   "execution_count": null,
   "id": "f13fb039",
   "metadata": {},
   "outputs": [],
   "source": [
    "driver.get(cuentas_linkedin[0])\n",
    "driver.implicitly_wait(3)\n",
    "driver.find_element_by_css_selector('button.promo__dismiss').click()\n",
    "try:#diferentes maneras de hacer el loggin\n",
    "    driver.find_element(By.XPATH, \"//a[@class='nav__button-secondary']\").click()\n",
    "    usuario =  driver.find_element(By.XPATH, '//input[@name=\"session_key\"]')\n",
    "    usuario.send_keys(\"100383702@alumnos.uc3m.es\")\n",
    "    password = driver.find_element(By.XPATH, '//input[@name=\"session_password\"]')\n",
    "    password.send_keys(\"C3$999UniLINK\")\n",
    "    driver.find_element(By.XPATH, \"//button[@class='btn__primary--large from__button--floating']\").click()\n",
    "except:\n",
    "    driver.find_element_by_css_selector('button.authwall-join-form__form-toggle--bottom.form-toggle').click()\n",
    "    usuario =  driver.find_element(By.XPATH, '//input[@name=\"session_key\"]')\n",
    "    usuario.send_keys(\"100383702@alumnos.uc3m.es\")\n",
    "    password = driver.find_element(By.XPATH, '//input[@name=\"session_password\"]')\n",
    "    password.send_keys(\"C3$999UniLINK\")\n",
    "    driver.find_element(By.XPATH, \"//button[@class='sign-in-form__submit-button']\").click()\n",
    "a = 0\n",
    "sleep(12)\n",
    "for a in range(59,len(cuentas_linkedin)):# estandarización de enlaces\n",
    "    driver.get(cuentas_linkedin[a])\n",
    "    tipo = cuentas_linkedin[a].index(\"/\",10)\n",
    "    if cuentas_linkedin[a][tipo+1] == \"i\" :\n",
    "        pass\n",
    "    href = cuentas_linkedin[a][cuentas_linkedin[0].index(\"/\",10):cuentas_linkedin[a].rfind(\"/\")+1]\n",
    "\n",
    "    ## Recoger aqui info del primer cuadrado, antes del acerca de.\n",
    "    nombre = driver.find_element(By.XPATH, \"//h1/span\").text\n",
    "    print(nombre)\n",
    "\n",
    "    posts = f\"//a[@href='{href}posts/']\"\n",
    "    WebDriverWait(driver,100).until(EC.presence_of_element_located((By.XPATH, posts ))).click()\n",
    "    screen_height = driver.execute_script(\"return window.screen.height;\")\n",
    "    sleep(3)\n",
    "    i = 1\n",
    "    while True:\n",
    "        # scroll lo qeu mide la pantalla\n",
    "        driver.execute_script(\"window.scrollTo(0, {screen_height}*{i});\".format(screen_height=screen_height, i=i))  \n",
    "        i += 1\n",
    "        sleep(1)\n",
    "        # actualiza la pagina para nuevo scroll\n",
    "        scroll_height = driver.execute_script(\"return document.body.scrollHeight;\")  \n",
    "        # rompe si al actualizar no se actualizan las dimensiones\n",
    "        if (screen_height) * i > scroll_height:\n",
    "            break\n",
    "    sleep(1)\n",
    "    posts= driver.find_elements_by_xpath(\"//div[@class='scaffold-finite-scroll__content']/div\")\n",
    "    print(len(posts))\n",
    "    for b, post in enumerate(posts):#recogemos post\n",
    "        ## recogemos fecha\n",
    "        try:\n",
    "            fecha = post.find_element_by_css_selector(\"span.feed-shared-actor__sub-description.t-12.t-normal.t-normal.t-black--light\").get_attribute(\"textContent\").strip()\n",
    "            fecha = fecha[:fecha.index(\" \",4)]\n",
    "            datos_fecha = fecha.split()\n",
    "            if datos_fecha[-1][0] == \"d\":\n",
    "                fecha = date.today() + relativedelta(days = -int(datos_fecha[0]))\n",
    "            elif datos_fecha[-1][0] == \"s\":\n",
    "                fecha =  date.today() + relativedelta(months = -int(datos_fecha[0]))\n",
    "            else:\n",
    "                fecha = date.today() + relativedelta(years = -int(datos_fecha[0]))\n",
    "            \n",
    "        except:\n",
    "            continue\n",
    "        ## recogemos texto\n",
    "        try:\n",
    "            texto = post.find_element_by_css_selector(\"span.break-words\").get_attribute(\"textContent\").strip()\n",
    "            \n",
    "        except:\n",
    "            texto = None\n",
    "        try:\n",
    "            reacciones = post.find_element_by_css_selector(\"span.social-details-social-counts__reactions-count\").get_attribute(\"textContent\").strip()\n",
    "        except:\n",
    "            reacciones = 0\n",
    "        \n",
    "        interacciones = post.find_elements_by_css_selector(\"li.social-details-social-counts__item.social-details-social-counts__item--with-social-proof\")\n",
    "        if len(interacciones)== 0:\n",
    "            comentarios = 0\n",
    "            compartido = 0\n",
    "        else:\n",
    "            comentarios = 0\n",
    "            compartido = 0\n",
    "            for interaccion in interacciones:\n",
    "                inter = interaccion.get_attribute(\"textContent\").strip()\n",
    "                if \"comen\" in inter:\n",
    "                    comentarios = int(inter[:inter.index(\" \")])\n",
    "                elif \"compart\" in inter:\n",
    "                    compartido = int(inter[:inter.index(\" \")])\n",
    "                \n",
    "        ## recogemos resto de variables \n",
    "        videos = len(post.find_elements_by_xpath(\".//div[@class='external-video-viewer']\"))\n",
    "        imagenes = len(post.find_elements_by_xpath(\".//div[@class = 'feed-shared-image__container']\"))\n",
    "        lecturas = len(post.find_elements_by_xpath(\".//article[@class ='feed-shared-article feed-shared-update-v2__content']\"))\n",
    "        datos =(a,cuentas_linkedin[a],nombre,fecha,texto,videos,imagenes,lecturas,reacciones,comentarios,compartido)\n",
    "        cursor.execute(\"INSERT INTO posts_linkedin VALUES(%s,%s,%s,%s,%s,%s,%s,%s,%s,%s,%s)\",datos)\n",
    "        database.commit()"
   ]
  },
  {
   "cell_type": "markdown",
   "id": "fafa951e",
   "metadata": {},
   "source": [
    "### Con este pequeño script están los datos de la red social Linkedin extraidos.<br><br> Duración aproximada 15h"
   ]
  }
 ],
 "metadata": {
  "kernelspec": {
   "display_name": "Python 3",
   "language": "python",
   "name": "python3"
  },
  "language_info": {
   "codemirror_mode": {
    "name": "ipython",
    "version": 3
   },
   "file_extension": ".py",
   "mimetype": "text/x-python",
   "name": "python",
   "nbconvert_exporter": "python",
   "pygments_lexer": "ipython3",
   "version": "3.8.8"
  }
 },
 "nbformat": 4,
 "nbformat_minor": 5
}
