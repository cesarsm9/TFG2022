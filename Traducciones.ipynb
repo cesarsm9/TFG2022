{
 "cells": [
  {
   "cell_type": "markdown",
   "metadata": {},
   "source": [
    "# TRADUCCIÓN DE TEXTOS"
   ]
  },
  {
   "cell_type": "markdown",
   "metadata": {},
   "source": [
    "Este cuaderno de Jupyter está dedicado a como se ha realizado la función que traduce los textos de las diferentes redes sociales y se introducen en una nueva columna. <br>\n",
    "\n",
    "Esto es necesario debido a que no todos los textos se deben de encontrar en los idiomas deseados ya que España cuenta con diferentes dialectos y alguas publicaciones son en otros idiomas.<br>\n",
    "\n",
    "Los idiomas que interesan y que a los que se van a traducir los textos son el español y el ingles"
   ]
  },
  {
   "cell_type": "markdown",
   "metadata": {},
   "source": [
    "# PSEUDOCÓDIGO"
   ]
  },
  {
   "cell_type": "markdown",
   "metadata": {},
   "source": [
    "Lo primero de todo es crear el pseudocódigo para entender la función de una manera más humana.\n",
    "\n",
    "Se conecta a la base de datos y se extrae la tabla<br>\n",
    "Se extrae la columna del texto a traducir<br>\n",
    "Para cada uno de los textos recogidos:<br>\n",
    "&emsp; Identificar idioma<br>\n",
    "&emsp;si es español<br>\n",
    "&emsp; &emsp; traducir al ingles<br>\n",
    "&emsp;si es ingles<br>\n",
    "&emsp; &emsp; traducir al espñol<br>\n",
    "&emsp; &emsp; si no es ninguno <br>\n",
    "&emsp; &emsp; traducir al ingles y al español<br>\n",
    "\n",
    "Introducir datos <br>"
   ]
  },
  {
   "cell_type": "markdown",
   "metadata": {},
   "source": [
    "# LIBRERÍAS"
   ]
  },
  {
   "cell_type": "markdown",
   "metadata": {},
   "source": [
    "Para la correcta extracción y recopilación de los datos, se aplicarán diferentes librerías pero la librería principal es:<br><br>\n",
    "**__DEEP_TRANSLATOR__**: Esta librería es una de las librerías de Python con mejor relación velocidad precisón debido a que está conectada a la API del traductor de Google y puede detectar mas de 27 idiomas.  __[aquí](https://pypi.org/project/deep-translator/)__.<br><br>\n",
    "\n",
    "\n",
    "\n",
    "\n",
    "Otras librerías que se usan son:\n",
    "- **Pandas** : Manipulación de datos\n",
    "- **Mysql.connector**: Conexión con la base de datos\n",
    "- **Codecs**: Normalización de caracteres\n",
    "- **TQDM**: Muestra barra de progreso"
   ]
  },
  {
   "cell_type": "markdown",
   "metadata": {},
   "source": [
    "Una vez todo explicado se empieza importando las librerías a utilizar"
   ]
  },
  {
   "cell_type": "code",
   "execution_count": null,
   "metadata": {},
   "outputs": [],
   "source": [
    "import mysql.connector\n",
    "import codecs\n",
    "import pandas as pd\n",
    "from tqdm import tqdm\n",
    "from deep_translator import GoogleTranslator\n",
    "from language_detector import detect_language\n"
   ]
  },
  {
   "cell_type": "markdown",
   "metadata": {},
   "source": [
    "Una vez se tienen todas la librerías se empieza a codificar, importando los datos desde sql, habiendo realizado la conexion previamente"
   ]
  },
  {
   "cell_type": "code",
   "execution_count": null,
   "metadata": {},
   "outputs": [],
   "source": [
    "\n",
    "codecs.register(lambda name: codecs.lookup('utf8') if name == 'utf8mb4' else None)\n",
    "\n",
    "database = mysql.connector.connect(\n",
    "    host= \"localhost\",\n",
    "    user= \"root\",\n",
    "    passwd= \"\",\n",
    "    database= \"TFG\",\n",
    "    use_unicode = True, \n",
    "    charset=\"utf8mb4\",\n",
    "    collation = \"utf8mb4_general_ci\"\n",
    ")\n",
    "database.set_charset_collation(\"utf8mb4\",\"utf8mb4_general_ci\")\n",
    "\n",
    "cursor= database.cursor()"
   ]
  },
  {
   "cell_type": "code",
   "execution_count": null,
   "metadata": {},
   "outputs": [],
   "source": [
    "df = pd.read_sql(\"SELECT * FROM tweets\",database)\n",
    "contenido = df[\"contenido\"].tolist()\n",
    "contenido2 = df[\"contenido_raw\"].tolist()\n",
    "idioma = df[\"idioma\"].tolist()"
   ]
  },
  {
   "cell_type": "code",
   "execution_count": null,
   "metadata": {},
   "outputs": [],
   "source": [
    "from deep_translator import GoogleTranslator\n",
    "from language_detector import detect_language\n",
    "\n",
    "\n",
    "# - - Esta parte del código traduce únicamente un texto plano\n",
    "traductor_espanol = GoogleTranslator(source='auto', target='es')\n",
    "traductor_ingles = GoogleTranslator(source='auto', target='en')\n",
    "# sqlinsert = \"ALTER TABLE tweets ADD contenido_espanol TEXT\"\n",
    "# cursor.execute(sqlinsert)\n",
    "# sqlinsert2 = \"ALTER TABLE tweets ADD contenido_ingles TEXT\"\n",
    "# cursor.execute(sqlinsert2)\n",
    "texto_espanol = [] \n",
    "texto_ingles = []\n",
    "for z in tqdm(range(len(contenido))):\n",
    "\n",
    "    if idioma [z] != \"es\":\n",
    "        if detect_language(contenido2[z]) == \"Spanish\":\n",
    "            traducido_espanol = contenido2[z]\n",
    "        else:\n",
    "            try:   \n",
    "                traducido_espanol = traductor_espanol.translate(text = contenido[z])\n",
    "            except:\n",
    "                traducido_espanol = None\n",
    "                print(\"error\")\n",
    "\n",
    "    else:\n",
    "        traducido_espanol = contenido[z]\n",
    "\n",
    "    if idioma[z] == \"en\":\n",
    "        traducido_ingles = contenido[z]\n",
    "    elif detect_language(contenido2[z]) == \"English\":\n",
    "        traducido_ingles = contenido2[z]\n",
    "    else:\n",
    "        try:\n",
    "            traducido_ingles = traductor_ingles.translate(text = contenido[z])\n",
    "        except:\n",
    "            traducido_ingles = None\n",
    "            print(\"error\")\n",
    "        \n",
    "   \n",
    "    \n",
    "    texto_espanol.append(traducido_espanol)\n",
    "    texto_ingles.append(traducido_ingles)\n",
    "\n",
    "df[\"texto_espanol\"] = texto_espanol\n",
    "df[\"texto_ingles\"] = texto_ingles\n"
   ]
  },
  {
   "cell_type": "markdown",
   "metadata": {},
   "source": [
    "## Con este código estarían los textos traducidos e introducidos en la base de datos\n"
   ]
  },
  {
   "cell_type": "markdown",
   "metadata": {},
   "source": [
    "## La duración varía dependiendo de la cantidad de los textos, 1,2M de textos en 7 dias"
   ]
  }
 ],
 "metadata": {
  "kernelspec": {
   "display_name": "Python 3.9.5 64-bit",
   "language": "python",
   "name": "python3"
  },
  "language_info": {
   "name": "python",
   "version": "3.9.5"
  },
  "orig_nbformat": 4,
  "vscode": {
   "interpreter": {
    "hash": "9b46891482e43448fca434b48535568d1fb045c476689b999f0b2c31bd471c5b"
   }
  }
 },
 "nbformat": 4,
 "nbformat_minor": 2
}
