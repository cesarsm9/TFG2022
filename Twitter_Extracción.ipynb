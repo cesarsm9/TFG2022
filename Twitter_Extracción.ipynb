{
 "cells": [
  {
   "cell_type": "markdown",
   "id": "47a6a402",
   "metadata": {},
   "source": [
    "# EXTRACCIÓN DE LOS DATOS DE TWITTER"
   ]
  },
  {
   "cell_type": "markdown",
   "id": "391da74f",
   "metadata": {},
   "source": [
    "Para la red social de Twitter, se extraerán datos con dos scripts diferentes.<br>\n",
    "- Script para sacar información de los perfiles e introducirlos en la BBDD\n",
    "- Script para sacar información de los tweets e introducirlos en la BBDD"
   ]
  },
  {
   "cell_type": "markdown",
   "id": "5c72dad4",
   "metadata": {},
   "source": [
    "## PSEUDOCÓDIGO"
   ]
  },
  {
   "cell_type": "markdown",
   "id": "da0d4c8b",
   "metadata": {},
   "source": [
    "**El psudocódigo del programa será de la siguiente manera**\n",
    "\n",
    "Abrir Base de Datos\n",
    "Seleccionar y extraer los datos de la tabla donde se almacenan los nombres de las diferentes cuentas de Twitter<br><br>\n",
    "Extraer las cuentas de twitter<br><br>\n",
    "Para cada una de las cuentas:<br>\n",
    "   &emsp; extraer los datos de la cuentas<br>\n",
    "   &emsp; introducir los datos en la tabla correspondiente<br><br>\n",
    "   &emsp; Para cada uno de los tweets de la cuenta:<br>\n",
    "   &emsp; &emsp; extraer los datos de los tweets<br>\n",
    "   &emsp; &emsp; introducir los datos en la tabla correspondiente<br>"
   ]
  },
  {
   "cell_type": "markdown",
   "id": "16eb51c9",
   "metadata": {},
   "source": [
    "## LIBRERÍAS"
   ]
  },
  {
   "cell_type": "markdown",
   "id": "7b02a5e2",
   "metadata": {},
   "source": [
    "Para la correcta extracción y recopilación de los datos, se aplicarán diferentes librerías pero la librería principal es:<br><br>\n",
    "**__SNSCRAPE__**: Librería desarrollada por el usuario de Github JustAnotherArchivist que tiene por misión facilitar la extracción de datos de diferentes Redes Sociales. En este caso en concreto se utilizará el módulo de Twitter, que se puede consultar __[aquí](https://github.com/JustAnotherArchivist/snscrape/blob/master/snscrape/modules/twitter.py)__. Como no tiene documentación, hay que leer y entender el código para su posterior aplicación.<br><br>\n",
    "\n",
    "Otras librerías que se usan son:\n",
    "- **Pandas** : Manipulación de datos\n",
    "- **Mysql.connector**: Conexión con la base de datos\n",
    "- **Codecs**: Normalización de caracteres\n"
   ]
  },
  {
   "cell_type": "markdown",
   "id": "9a30a45e",
   "metadata": {},
   "source": [
    "## PASOS PREVIOS"
   ]
  },
  {
   "cell_type": "markdown",
   "id": "246082cf",
   "metadata": {},
   "source": [
    "Para realizar estos scripts, primeramente se añaden dos tablas a la BBDD con la siguiente sintaxis:\n",
    "\n",
    "- **TABLA PARA PERFILES DE TWITTER**:\n",
    "\n",
    "CREATE TABLE IF NOT EXISTS perfiles_twitter(<br>\n",
    "    &emsp; Universidad VARCHAR(100),<br>\n",
    "\t&emsp; Abreviatura VARCHAR(20),<br>\n",
    "    &emsp; Perfil VARCHAR(200),<br>\n",
    "    &emsp; Creacion DATETIME,<br>\n",
    "    &emsp; Verificado BOOL,<br>\n",
    "    &emsp; Descripcion TEXT,<br>\n",
    "    &emsp; Seguidores BIGINT,<br>\n",
    "    &emsp; Seguidos BIGINT,<br>\n",
    "    &emsp; Favoritos BIGINT,<br>\n",
    "    &emsp; Media BIGINT,<br>\n",
    "    &emsp; Localizacion VARCHAR(200),<br>\n",
    "    &emsp; PRIMARY KEY(Universidad)<br>\n",
    ")ENGINE = INNODB;<br>\n",
    "\n",
    "\n",
    "- **TABLA PARA LOS TWEETS**:\n",
    "\n",
    "CREATE TABLE IF NOT EXISTS tweets(<br>\n",
    "\t&emsp; id_tweet BIGINT,<br>\n",
    "    &emsp; universidad VARCHAR(100),<br>\n",
    "    &emsp; fecha TIMESTAMP,<br>\n",
    "    &emsp; contenido TEXT,<br>\n",
    "    &emsp; contenido_raw TEXT,<br>\n",
    "    &emsp; replicas INT,<br>\n",
    "    &emsp; retweet INT,<br>\n",
    "    &emsp; me_gusta INT,<br>\n",
    "    &emsp; rt_mg INT,<br>\n",
    "    &emsp; conversationID BIGINT,<br>\n",
    "    &emsp; idioma VARCHAR(4),<br>\n",
    "    &emsp; dispositivo VARCHAR(50),<br>\n",
    "    &emsp; Es_Retweet VARCHAR(280),<br>\n",
    "    &emsp; Es_Quoted TINYINT,<br>\n",
    "    &emsp; Usuarios_mencionados INT,<br>\n",
    "    &emsp; PRIMARY KEY(id_tweet)<br>\n",
    ")ENGINE = INNODB;<br>\n"
   ]
  },
  {
   "cell_type": "markdown",
   "id": "68d437c3",
   "metadata": {},
   "source": [
    "## CÓDIGO"
   ]
  },
  {
   "cell_type": "markdown",
   "id": "aaaed901",
   "metadata": {},
   "source": [
    "Ya que se tiene todo los requisitos, ahora se abre la conexión con la Base de Datos y se empieza a codificar. <br>\n",
    "Lo primero de todo es importar las librerias que necesitamos"
   ]
  },
  {
   "cell_type": "code",
   "execution_count": null,
   "id": "aaee2cde",
   "metadata": {},
   "outputs": [],
   "source": [
    "pip install snscrape"
   ]
  },
  {
   "cell_type": "code",
   "execution_count": null,
   "id": "d5c5c63f",
   "metadata": {},
   "outputs": [],
   "source": [
    "import snscrape.modules.twitter as snst\n",
    "import pandas as pd\n",
    "import mysql.connector\n",
    "import codecs"
   ]
  },
  {
   "cell_type": "markdown",
   "id": "1226c8fc",
   "metadata": {},
   "source": [
    "Acto seguido, se abre la conexión de la base de Datos con Python "
   ]
  },
  {
   "cell_type": "code",
   "execution_count": null,
   "id": "c524378e",
   "metadata": {},
   "outputs": [],
   "source": [
    "database = mysql.connector.connect(\n",
    "    host= \"localhost\",\n",
    "    user= \"root\",\n",
    "    passwd= \"\",\n",
    "    database= \"TFG\",\n",
    "    use_unicode = True, \n",
    "    charset=\"utf8mb4\",\n",
    "    collation = \"utf8mb4_general_ci\"\n",
    ")\n",
    "database.set_charset_collation(\"utf8mb4\",\"utf8mb4_general_ci\")\n",
    "\n",
    "cursor= database.cursor()"
   ]
  },
  {
   "cell_type": "markdown",
   "id": "fe1e34b6",
   "metadata": {},
   "source": [
    "Se extraen las cuentas de Twitter de la tabla de la Base de Datos **\"universidades\"**"
   ]
  },
  {
   "cell_type": "code",
   "execution_count": null,
   "id": "5e30bb70",
   "metadata": {},
   "outputs": [],
   "source": [
    "datos = pd.read_sql(\"SELECT * FROM universidades\",database)\n",
    "cuentas_twitter = datos[\"Twitter\"].tolist()\n",
    "print(datos.info())"
   ]
  },
  {
   "cell_type": "markdown",
   "id": "360da04a",
   "metadata": {},
   "source": [
    "Como todas las Universidades tienen cuenta de Twitter, nos ahorramos la limpieza intermedia.<br>\n",
    "Se pasa a sacar la información.<br>\n",
    "Para hacerlo más legible, se harán 2 bucles. Uno con los perfiles y otro con los tweets."
   ]
  },
  {
   "cell_type": "code",
   "execution_count": null,
   "id": "8b2a917d",
   "metadata": {},
   "outputs": [],
   "source": [
    "## EXTRACCIÓN Y PROCESAMIENTO DE DATOS DE PERFILES ##\n",
    "for b in range(len(cuentas_twitter)):\n",
    "    for perfil in snst.TwitterUserScraper(cuentas_twitter[b]).get_items():\n",
    "        print(perfil.user.username)\n",
    "        twitter_data = [universidad[b],\n",
    "                        abreviaturas[b],\n",
    "                        perfil.user.username,\n",
    "                        perfil.user.created,\n",
    "                        perfil.user.verified,\n",
    "                        perfil.user.description,\n",
    "                        perfil.user.followersCount,\n",
    "                        perfil.user.friendsCount,\n",
    "                        perfil.user.favouritesCount,\n",
    "                        perfil.user.mediaCount,\n",
    "                        perfil.user.location]\n",
    "        twitter_data[3] = twitter_data[3].strftime('%Y-%m-%d %H:%M:%S')\n",
    "        twitter_data = tuple(twitter_data)\n",
    "        print(len(twitter_data))\n",
    "        print(twitter_data)\n",
    "        cursor.execute(\"INSERT INTO perfiles_twitter VALUES(%s,%s,%s,%s,%s,%s,%s,%s,%s,%s,%s)\",twitter_data)\n",
    "        database.commit()\n",
    "        "
   ]
  },
  {
   "cell_type": "code",
   "execution_count": null,
   "id": "8dc65ad1",
   "metadata": {},
   "outputs": [],
   "source": [
    "## EXTRACCIÓN Y PROCESAMIENTO DE DATOS DE TWEETS##\n",
    "for b in range(len(cuentas_twitter)): \n",
    "    print(cuentas_twitter[b])\n",
    "    for i,tweet in enumerate(snst.TwitterUserScraper(cuentas_twitter[b]).get_items()):\n",
    "        datos_tweets = [tweet.id,\n",
    "        tweet.user.username,\n",
    "        tweet.date,\n",
    "        tweet.content,\n",
    "        tweet.renderedContent,\n",
    "        tweet.replyCount,\n",
    "        tweet.retweetCount,\n",
    "        tweet.likeCount,\n",
    "        tweet.quoteCount,\n",
    "        tweet.conversationId,\n",
    "        tweet.lang,\n",
    "        tweet.source,\n",
    "        tweet.retweetedTweet,\n",
    "        tweet.quotedTweet,\n",
    "        tweet.mentionedUsers\n",
    "        ]\n",
    "        datos_tweets[2] = datos_tweets[2].strftime('%Y-%m-%d %H:%M:%S')\n",
    "        datos_tweets[11] = datos_tweets[11][datos_tweets[11].find(\">\")+1: datos_tweets[11].rfind(\"<\")]\n",
    "        if type(datos_tweets[-1]) == list:\n",
    "            datos_tweets[-1] = len(datos_tweets[-1])\n",
    "        else:\n",
    "            datos_tweets[-1] = 0\n",
    "\n",
    "        if type(datos_tweets[-2]) != None:\n",
    "            datos_tweets[-2] = True\n",
    "        else:\n",
    "            datos_tweets[-2] = False\n",
    "\n",
    "        datos_tweets = tuple(datos_tweets)\n",
    "        cursor.execute(\"INSERT INTO tweets VALUES(%s,%s,%s,%s,%s,%s,%s,%s,%s,%s,%s,%s,%s,%s,%s)\",datos_tweets)\n",
    "        database.commit()"
   ]
  },
  {
   "cell_type": "markdown",
   "id": "fafa951e",
   "metadata": {},
   "source": [
    "### Con este pequeño script están los datos de la red social Twitter extraidos.<br><br> Duración aproximada 8h"
   ]
  },
  {
   "cell_type": "code",
   "execution_count": null,
   "id": "b48961d9",
   "metadata": {},
   "outputs": [],
   "source": []
  }
 ],
 "metadata": {
  "kernelspec": {
   "display_name": "Python 3",
   "language": "python",
   "name": "python3"
  },
  "language_info": {
   "codemirror_mode": {
    "name": "ipython",
    "version": 3
   },
   "file_extension": ".py",
   "mimetype": "text/x-python",
   "name": "python",
   "nbconvert_exporter": "python",
   "pygments_lexer": "ipython3",
   "version": "3.8.8"
  }
 },
 "nbformat": 4,
 "nbformat_minor": 5
}
