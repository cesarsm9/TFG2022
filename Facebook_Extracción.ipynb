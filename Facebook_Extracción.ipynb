{
 "cells": [
  {
   "cell_type": "markdown",
   "id": "47a6a402",
   "metadata": {},
   "source": [
    "# EXTRACCIÓN DE LOS DATOS DE FACEBOOK"
   ]
  },
  {
   "cell_type": "markdown",
   "id": "391da74f",
   "metadata": {},
   "source": [
    "Para la red social de Linkedin, se extraerán datos con dos scripts diferentes.<br>\n",
    "- Script para sacar información de los perfiles e introducirlos en la BBDD\n",
    "- Script para sacar información de los posts e introducirlos en la BBDD"
   ]
  },
  {
   "cell_type": "markdown",
   "id": "5c72dad4",
   "metadata": {},
   "source": [
    "## PSEUDOCÓDIGO"
   ]
  },
  {
   "cell_type": "markdown",
   "id": "da0d4c8b",
   "metadata": {},
   "source": [
    "**El pseudocódigo del programa será de la siguiente manera**\n",
    "\n",
    "Abrir Base de Datos\n",
    "Seleccionar y extraer los datos de la tabla donde se almacenan los enlaces de los diferentes enlaces a los perfiles de facebook<br><br>\n",
    "Extraer las cuentas de Facebook<br><br>\n",
    "Para cada una de las cuentas:<br>\n",
    "   &emsp; extraer los datos de la cuentas<br>\n",
    "   &emsp; introducir los datos en la tabla correspondiente<br><br>\n",
    "   &emsp; Para cada uno de los mensajes de la cuenta:<br>\n",
    "   &emsp; &emsp; extraer los datos de los mensajes<br>\n",
    "   &emsp; &emsp; introducir los datos en la tabla correspondiente<br>"
   ]
  },
  {
   "cell_type": "markdown",
   "id": "16eb51c9",
   "metadata": {},
   "source": [
    "## LIBRERÍAS"
   ]
  },
  {
   "cell_type": "markdown",
   "id": "7b02a5e2",
   "metadata": {},
   "source": [
    "Para la correcta extracción y recopilación de los datos, se aplicarán diferentes librerías pero la principal es:<br><br>\n",
    "\n",
    "**__SELENIUM__**: Es un entorno de pruebas de software para aplicaciones basadas en la web. Su función principal es realizar web scraping de manera automatizada mediante diferentes métodos posibles como HTML, CSS, XPATH, etc..<br><br>Esto es gracias a la implantación de un driver que automatizará el navegador y que se puede descargar __[aquí](https://selenium-python.readthedocs.io/installation.html)__.<br><br>\n",
    "La documentación de Selenium para Python se puede consultar __[aquí](https://selenium-python.readthedocs.io/getting-started.htmly)__.<br>\n",
    "\n",
    "La librería selenium no es como otras librerías usadas en otras redes sociales que son especializadas en la extracción de datos en esa red social, selenium recorre la web y es el programador el que recoge los datos.<br>\n",
    "\n",
    "Otras librerías que se usan son:\n",
    "- **Pandas** : Manipulación de datos\n",
    "- **Mysql.connector**: Conexión con la base de datos\n",
    "- **Codecs**: Normalización de caracteres\n",
    "- **Time**: Manipula y da información de la cantidad de tiempo\n",
    "- **Datetime**: Facilita la manipulación de datos tipo fecha\n"
   ]
  },
  {
   "cell_type": "markdown",
   "id": "9a30a45e",
   "metadata": {},
   "source": [
    "## PASOS PREVIOS"
   ]
  },
  {
   "cell_type": "markdown",
   "id": "246082cf",
   "metadata": {},
   "source": [
    "Para realizar estos scripts, primeramente se añaden dos tablas a la BBDD con la siguiente sintaxis:\n",
    "\n",
    "- **TABLA PARA PERFILES DE FACEBOOK**:<br>\n",
    "\n",
    "CREATE TABLE IF NOT EXISTS perfiles_facebook(<br>\n",
    "    &emsp; ID INT NOT NULL AUTO_INCREMENT ,<br>\n",
    "    &emsp; Perfil VARCHAR(100),<br>\n",
    "    &emsp; Rating FLOAT,<br>\n",
    "    &emsp; Opiniones INT,<br>\n",
    "    &emsp; Definicion TEXT,<br>\n",
    "    &emsp; Me_gusta INT,<br>\n",
    "    &emsp; Siguen INT,<br>\n",
    "    &emsp; Visita INT,<br>\n",
    "    &emsp; Fundacion DATE,<br>\n",
    "    &emsp; PRIMARY KEY(ID)<br>\n",
    ")ENGINE = INNODB;\n",
    "\n",
    "\n",
    "\n",
    "\n",
    "- **TABLA PARA LOS POSTS DE FACEBOOK**:<br>\n",
    "\n",
    "CREATE TABLE IF NOT EXISTS posts_facebook(<br>\n",
    "    &emsp; ID INT NOT NULL AUTO_INCREMENT ,<br>\n",
    "    &emsp; Perfil VARCHAR(100),<br>\n",
    "    &emsp; Texto TEXT,<br>\n",
    "    &emsp; Fecha DATETIME,<br>\n",
    "    &emsp; Noticias INT,<br>\n",
    "    &emsp; Imagenes INT,<br>\n",
    "    &emsp; Videos INT,<br>\n",
    "    &emsp; Reacciones INT,<br>\n",
    "    &emsp; Comentarios INT,<br>\n",
    "    &emsp; Compartido INT,<br>\n",
    "    &emsp; PRIMARY KEY(ID)<br>\n",
    ")ENGINE = INNODB;\n",
    "\n",
    "\n"
   ]
  },
  {
   "cell_type": "markdown",
   "id": "68d437c3",
   "metadata": {},
   "source": [
    "## CÓDIGO"
   ]
  },
  {
   "cell_type": "markdown",
   "id": "aaaed901",
   "metadata": {},
   "source": [
    "Ya que se tiene todo los requisitos, ahora se abre la conexión con la Base de Datos y se empieza a codificar. <br>\n",
    "Lo primero de todo es importar las librerias que necesitamos, serán varias."
   ]
  },
  {
   "cell_type": "code",
   "execution_count": null,
   "id": "d5c5c63f",
   "metadata": {},
   "outputs": [],
   "source": [
    "import pandas as pd\n",
    "import mysql.connector\n",
    "import codecs\n",
    "from datetime import date, datetime\n",
    "from time import sleep\n",
    "from random import uniform\n",
    "from dateutil.relativedelta import relativedelta\n",
    "from selenium import webdriver\n",
    "from selenium.webdriver.chrome.options import Options\n",
    "from selenium.webdriver.common.by import By\n",
    "from selenium.webdriver.support.ui import WebDriverWait\n",
    "from selenium.webdriver.support import expected_conditions as EC"
   ]
  },
  {
   "cell_type": "markdown",
   "id": "1226c8fc",
   "metadata": {},
   "source": [
    "Acto seguido, se abre la conexión de la base de Datos con Python "
   ]
  },
  {
   "cell_type": "code",
   "execution_count": null,
   "id": "c524378e",
   "metadata": {},
   "outputs": [],
   "source": [
    "codecs.register(lambda name: codecs.lookup('utf8') if name == 'utf8mb4' else None)\n",
    "\n",
    "database = mysql.connector.connect(\n",
    "    host= \"localhost\",\n",
    "    user= \"root\",\n",
    "    passwd= \"\",\n",
    "    database= \"TFG\",\n",
    "    use_unicode = True, \n",
    "    charset=\"utf8mb4\",\n",
    "    collation = \"utf8mb4_general_ci\"\n",
    ")\n",
    "database.set_charset_collation(\"utf8mb4\",\"utf8mb4_general_ci\")\n",
    "\n",
    "cursor= database.cursor()"
   ]
  },
  {
   "cell_type": "markdown",
   "id": "fe1e34b6",
   "metadata": {},
   "source": [
    "Se extraen las cuentas de Facebook de la tabla de la Base de Datos **\"universidades\"**"
   ]
  },
  {
   "cell_type": "code",
   "execution_count": null,
   "id": "5e30bb70",
   "metadata": {},
   "outputs": [],
   "source": [
    "datos = pd.read_sql(\"SELECT * FROM universidades\",database)\n",
    "cuentas_instagram = datos[\"Instagram\"].tolist()\n",
    "universidad = datos[\"Universidad\"].tolist()\n",
    "print(datos.info())"
   ]
  },
  {
   "cell_type": "markdown",
   "id": "bb9bb3a9",
   "metadata": {},
   "source": [
    "Empezamos creando el driver y las opciones del driver. Este driver se corresponde al navegador de Microsoft Edge ya que Facebook no reconoce Google Chrome como un navegador óptimo para el uso de la red social."
   ]
  },
  {
   "cell_type": "code",
   "execution_count": null,
   "id": "f31af138",
   "metadata": {},
   "outputs": [],
   "source": [
    "opts= Options()\n",
    "opts.add_argument(\"--user-agent=Mozilla/5.0 (iPad; CPU OS 6_0 like Mac OS X) AppleWebKit/536.26 (KHTML, like Gecko) Version/6.0 Mobile/10A5355d Safari/8536.25\")\n",
    "opts.add_argument(\"--start-maximized\")\n",
    "opts.add_experimental_option('excludeSwitches', ['enable-logging'])\n",
    "driver= webdriver.Edge('./msedgedriver.exe' )"
   ]
  },
  {
   "cell_type": "markdown",
   "id": "ffa0f720",
   "metadata": {},
   "source": [
    "Acto seguido se pasa a elaborar el bucle que recogerá los datos de los perfiles"
   ]
  },
  {
   "cell_type": "code",
   "execution_count": null,
   "id": "7fd95b4a",
   "metadata": {},
   "outputs": [],
   "source": [
    "driver.get(\"https://www.facebook.com/\"+cuentas_facebook[0]+\"/\")\n",
    "sleep(2)\n",
    "### El código comentado no funciona al 100%, se recomienda aceptar las cookies de manera manual\n",
    "# driver.find_element_by_css_selector('button._54k8._52jh._56bs._a6at._56bt').click()\n",
    "# sleep(2)\n",
    "# driver.find_element_by_css_selector('a._54k8._56bs._4n43._6gg6._901w._56bu._52jh').click()\n",
    "# sleep(2)\n",
    "sleep(5)\n",
    "usuario =  driver.find_element(By.XPATH, '//input[@name=\"email\"]')\n",
    "usuario.send_keys(\"100383702@alumnos.uc3m.es\")\n",
    "password = driver.find_element(By.XPATH, '//input[@name=\"pass\"]')\n",
    "password.send_keys(\"cesar999\")\n",
    "driver.find_element(By.XPATH, \"//div[@class = 'oajrlxb2 gs1a9yip mtkw9kbi tlpljxtp qensuy8j ppp5ayq2 goun2846 ccm00jje s44p3ltw mk2mc5f4 rt8b4zig n8ej3o3l agehan2d sk4xxmp2 rq0escxv nhd2j8a9 mg4g778l pfnyh3mw p7hjln8o kvgmc6g5 cxmmr5t8 oygrvhab hcukyx3x tgvbjcpo hpfvmrgz l9j0dhe7 i1ao9s8h esuyzwwr f1sip0of du4w35lb pq6dq46d btwxx1t3 abiwlrkh p8dawk7l lzcic4wl s1i5eluu beltcj47 p86d2i9g aot14ch1 kzx2olss qypqp5cg ni8dbmo4 stjgntxs jb3vyjys d1544ag0 r8blr3vg tw6a2znq']\").click()\n",
    "for a in range(25,len(cuentas_facebook)):\n",
    "    driver.get(\"https://www.facebook.com/\"+cuentas_facebook[a]+\"/\")\n",
    "    rating = None\n",
    "    definicion = None\n",
    "    opiniones = None\n",
    "    me_gusta = None\n",
    "    siguen = None\n",
    "    visita = None\n",
    "    sleep(1)\n",
    "    try:\n",
    "        datos_ini= WebDriverWait(driver,3).until(EC.presence_of_element_located((By.XPATH, '//span[@class = \"d2edcug0 hpfvmrgz qv66sw1b c1et5uql lr9zc1uh a5q79mjw g1cxx5fr b1v8xokw m9osqain\"]'))).text\n",
    "        datos_ini = datos_ini.split(\"·\")\n",
    "        for dato in datos_ini:\n",
    "            dato = dato.strip()\n",
    "            dato = dato.strip(\"\\n\")\n",
    "            if dato[0] == \"@\":\n",
    "                continue\n",
    "            elif dato[0].isnumeric():\n",
    "                datos = dato.split()\n",
    "                rating = datos[0]\n",
    "                try:\n",
    "                    rating = float(rating.replace(\",\",\".\"))\n",
    "                except:\n",
    "                    rating = float(rating)\n",
    "                opiniones = int(datos[1].split()[0])\n",
    "            else:\n",
    "                definicion = dato\n",
    "    except:\n",
    "        datos_ini = \"nada\"\n",
    "    sleep(1)\n",
    "    driver.execute_script(\"window.scrollTo(0, document.body.scrollHeight);\")\n",
    "    datos_plant= driver.find_elements(By.XPATH,'//span[@class= \"d2edcug0 hpfvmrgz qv66sw1b c1et5uql lr9zc1uh jq4qci2q a3bd9o3v b1v8xokw oo9gr5id\"]')\n",
    "    for dato in datos_plant:\n",
    "        dato = dato.text\n",
    "        if dato[0] == \"A\" and dato[1] == \" \":\n",
    "            me_gusta = dato\n",
    "            me_gusta = me_gusta.split()[1:3]\n",
    "            try:\n",
    "                me_gusta = int(\"\".join(me_gusta))  \n",
    "            except:\n",
    "                try:\n",
    "                    me_gusta = int(me_gusta[0])\n",
    "                except:\n",
    "                    print(dato)\n",
    "        elif \"siguen\" in dato:\n",
    "            siguen = dato\n",
    "            try:\n",
    "                siguen = siguen.split()[:2]\n",
    "                siguen = int(\"\".join(siguen))     \n",
    "            except:\n",
    "                 siguen = int(siguen[0])\n",
    "        elif \"visita\" in dato:\n",
    "            visita = dato\n",
    "            visita = visita.split()[:2]\n",
    "            try:\n",
    "                visita = int(\"\".join(visita)) \n",
    "            except:\n",
    "                visita = int(visita[0])\n",
    "    sleep(1)\n",
    "    for c in range(4):\n",
    "        driver.execute_script(\"window.scrollTo(0, document.body.scrollHeight);\")\n",
    "    sleep(1)\n",
    "    try:\n",
    "        fundacion = driver.find_element(By.XPATH, './/div[@class = \"s9t1a10h\"]').text\n",
    "        fundacion = fundacion.split()\n",
    "        fundacion = f\"{fundacion[-5]}/{meses[fundacion[-3]]}/{fundacion[-1]}\"\n",
    "        fundacion = datetime.strptime(fundacion, '%d/%m/%Y').date()\n",
    "        \n",
    "    except:\n",
    "        fundacion = None\n",
    "        rating = None\n",
    "        opiniones = None\n",
    "        definicion = None\n",
    "    \n",
    "    datos_facebook = (cuentas_facebook[a],rating, opiniones,definicion, me_gusta, siguen, visita, fundacion)\n",
    "    cursor.execute(\"INSERT INTO perfiles_facebook VALUES(null,%s,%s,%s,%s,%s,%s,%s,%s)\",datos_facebook)\n",
    "    database.commit()\n",
    "    print(datos_facebook)"
   ]
  },
  {
   "cell_type": "markdown",
   "id": "69664cf8",
   "metadata": {},
   "source": [
    "Despues de extraer los perfiles, vamos a extraer los posts"
   ]
  },
  {
   "cell_type": "code",
   "execution_count": null,
   "id": "f13fb039",
   "metadata": {},
   "outputs": [],
   "source": [
    "driver= webdriver.Edge('./msedgedriver.exe' )\n",
    "\n",
    "driver.get(\"https://www.facebook.com/\"+cuentas_facebook[0]+\"/\")\n",
    "sleep(2)\n",
    "# driver.find_element_by_css_selector('button._54k8._52jh._56bs._a6at._56bt').click()\n",
    "# sleep(2)\n",
    "# driver.find_element_by_css_selector('a._54k8._56bs._4n43._6gg6._901w._56bu._52jh').click()\n",
    "# sleep(2)\n",
    "sleep(5)\n",
    "usuario =  driver.find_element(By.XPATH, '//input[@name=\"email\"]')\n",
    "usuario.send_keys(\"100383702@alumnos.uc3m.es\")\n",
    "password = driver.find_element(By.XPATH, '//input[@name=\"pass\"]')\n",
    "password.send_keys(\"cesar999\")\n",
    "driver.find_element(By.XPATH, \"//div[@class = 'oajrlxb2 gs1a9yip mtkw9kbi tlpljxtp qensuy8j ppp5ayq2 goun2846 ccm00jje s44p3ltw mk2mc5f4 rt8b4zig n8ej3o3l agehan2d sk4xxmp2 rq0escxv nhd2j8a9 mg4g778l pfnyh3mw p7hjln8o kvgmc6g5 cxmmr5t8 oygrvhab hcukyx3x tgvbjcpo hpfvmrgz l9j0dhe7 i1ao9s8h esuyzwwr f1sip0of du4w35lb pq6dq46d btwxx1t3 abiwlrkh p8dawk7l lzcic4wl s1i5eluu beltcj47 p86d2i9g aot14ch1 kzx2olss qypqp5cg ni8dbmo4 stjgntxs jb3vyjys d1544ag0 r8blr3vg tw6a2znq']\").click()\n",
    "for a in range(len(unis)):\n",
    "    sleep(15)\n",
    "    driver.get(unis2[a])\n",
    "    screen_height = driver.execute_script(\"return window.screen.height;\")\n",
    "    i = 1\n",
    "    publicaciones = []\n",
    "    while True:\n",
    "        # scroll one screen height each time\n",
    "        driver.execute_script(\"window.scrollTo(0, {screen_height}*{i});\".format(screen_height=screen_height, i=i))  \n",
    "        i += 1\n",
    "        sleep(uniform(0.5,2))\n",
    "        # update scroll height each time after scrolled, as the scroll height can change after we scrolled the page\n",
    "        scroll_height = driver.execute_script(\"return document.body.scrollHeight;\")  \n",
    "        # Break the loop when the height we need to scroll to is larger than the total scroll height\n",
    "        \n",
    "    \n",
    "        posts = driver.find_elements(By.XPATH, '//div[@class=\"du4w35lb k4urcfbm l9j0dhe7 sjgh65i0\"]')\n",
    "        print(len(posts))\n",
    "        for post in posts:\n",
    "            \n",
    "            if post in publicaciones:\n",
    "                continue\n",
    "            try:\n",
    "                texto =  post.find_element(By.XPATH, './/span[@class=\"d2edcug0 hpfvmrgz qv66sw1b c1et5uql lr9zc1uh a8c37x1j fe6kdd0r mau55g9w c8b282yb keod5gw0 nxhoafnm aigsh9s9 d3f4x2em iv3no6db jq4qci2q a3bd9o3v b1v8xokw oo9gr5id hzawbc8m\"]').text\n",
    "            except:\n",
    "                texto = None\n",
    "            fecha = post.find_element(By.XPATH, './/span[@class=\"tojvnm2t a6sixzi8 abs2jz4q a8s20v7p t1p8iaqh k5wvi7nf q3lfd5jv pk4s997a bipmatt0 cebpdrjk qowsmv63 owwhemhu dp1hu0rb dhp61c6y iyyx5f41\"]').text\n",
    "            fecha = fecha.split()\n",
    "            if len(fecha) == 2:\n",
    "                if fecha[-1] == \"h\":\n",
    "                    fecha = date.today()\n",
    "                else:\n",
    "                    fecha = date.today() + relativedelta(days = -int(fecha[0]))\n",
    "            elif len(fecha) == 3:\n",
    "                fecha = f\"{fecha[0]}/{meses[fecha[2]]}/2022\"\n",
    "                fecha =datetime.strptime(fecha, '%d/%m/%Y').date()\n",
    "            elif len(fecha) == 6:\n",
    "                fecha = f\"{fecha[0]}/{meses[fecha[2]]}/2022\"\n",
    "                fecha =datetime.strptime(fecha, '%d/%m/%Y').date()\n",
    "            elif len(fecha) == 5:\n",
    "                fecha = f\"{fecha[0]}/{meses[fecha[2]]}/{fecha[4]}\"\n",
    "                fecha =datetime.strptime(fecha, '%d/%m/%Y').date()\n",
    "            try:\n",
    "                noticia = post.find_element(By.XPATH,\".//span [@class='a8c37x1j ni8dbmo4 stjgntxs l9j0dhe7 ltmttdrg g0qnabr5 ojkyduve']\")\n",
    "                noticia = 1\n",
    "            except:\n",
    "                noticia = 0\n",
    "            try:\n",
    "                imagenes = post.find_element(By.XPATH,\".//div[@class ='do00u71z ni8dbmo4 stjgntxs l9j0dhe7']//div[@class='pmk7jnqg kr520xx4']//img[@class='i09qtzwb n7fi1qx3 datstx6m pmk7jnqg j9ispegn kr520xx4 k4urcfbm bixrwtb6']\")\n",
    "                imagenes = 1\n",
    "            except:\n",
    "                try:\n",
    "                    imagenes = len(post.find_elements(By.XPATH,\".//img[@class ='i09qtzwb n7fi1qx3 datstx6m pmk7jnqg j9ispegn kr520xx4 k4urcfbm']\"))\n",
    "                except:\n",
    "                    imagenes = 0\n",
    "            try:\n",
    "                videos = len(post.find_element(By.XPATH,\".//div[@class='tv7at329 pmk7jnqg kfkz5moi rk01pc8j py2didcb thwo4zme b5wmifdl hwaazqwg kmdw4o4n l23jz15m e4zzj2sf kr9hpln1']\"))\n",
    "            except:\n",
    "                videos = 0\n",
    "        \n",
    "            try:\n",
    "                reacciones = post.find_element(By.XPATH, './/span[@class=\"bzsjyuwj ni8dbmo4 stjgntxs ltmttdrg gjzvkazv\"]')\n",
    "                \n",
    "                try:\n",
    "                    reacciones = int(reacciones.text)\n",
    "                except:\n",
    "                    for dato in reacciones.split():\n",
    "                        if dato.isnumeric():\n",
    "                            reaciones = int(dato) + 1\n",
    "            except:\n",
    "                reacciones = 0\n",
    "            try:\n",
    "                com= post.find_element(By.XPATH, './/div[@class=\"bp9cbjyn j83agx80 pfnyh3mw p1ueia1e\"]').text\n",
    "                com = com.split()\n",
    "                if len(com) == 2:\n",
    "                    comentario = int(com[0])\n",
    "                    compartido = 0\n",
    "                elif len(com) == 3:\n",
    "                    compartido = int(com[0])\n",
    "                    comentario = 0\n",
    "                else:\n",
    "                    comentario = int(com[0])\n",
    "                    compartido = int(com[-3])\n",
    "            except:\n",
    "                comentario = 0\n",
    "                compartido = 0\n",
    "            publicaciones.append(post)\n",
    "            datos = (cuentas_facebook[a], texto, fecha, noticia, imagenes, videos, reacciones, comentario, compartido)\n",
    "            try:\n",
    "                cursor.execute(\"INSERT INTO posts_facebook VALUES(null,%s,%s,%s,%s,%s,%s,%s,%s,%s)\",datos)\n",
    "                database.commit()\n",
    "            except:\n",
    "                pass\n",
    "            if (screen_height) * i > scroll_height:\n",
    "                sleep(10)\n",
    "                scroll_height = driver.execute_script(\"return document.body.scrollHeight;\")\n",
    "            if (screen_height) * i > scroll_height:\n",
    "                break\n",
    "        if len(posts) > 500:\n",
    "            break "
   ]
  },
  {
   "cell_type": "markdown",
   "id": "fafa951e",
   "metadata": {},
   "source": [
    "### Con estos script están los datos de la red social Facebook extraidos.<br><br> Duración aproximada 70h"
   ]
  }
 ],
 "metadata": {
  "kernelspec": {
   "display_name": "Python 3.9.5 64-bit",
   "language": "python",
   "name": "python3"
  },
  "language_info": {
   "codemirror_mode": {
    "name": "ipython",
    "version": 3
   },
   "file_extension": ".py",
   "mimetype": "text/x-python",
   "name": "python",
   "nbconvert_exporter": "python",
   "pygments_lexer": "ipython3",
   "version": "3.9.5"
  },
  "vscode": {
   "interpreter": {
    "hash": "9b46891482e43448fca434b48535568d1fb045c476689b999f0b2c31bd471c5b"
   }
  }
 },
 "nbformat": 4,
 "nbformat_minor": 5
}
