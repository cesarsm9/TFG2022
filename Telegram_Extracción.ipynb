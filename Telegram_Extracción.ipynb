{
 "cells": [
  {
   "cell_type": "markdown",
   "id": "47a6a402",
   "metadata": {},
   "source": [
    "# EXTRACCIÓN DE LOS DATOS DE TELEGRAM"
   ]
  },
  {
   "cell_type": "markdown",
   "id": "391da74f",
   "metadata": {},
   "source": [
    "Para la red social de Telegram, se extraerán datos con dos scripts diferentes.<br>\n",
    "- Script para sacar información de los perfiles e introducirlos en la BBDD\n",
    "- Script para sacar información de los mensajes e introducirlos en la BBDD"
   ]
  },
  {
   "cell_type": "markdown",
   "id": "5c72dad4",
   "metadata": {},
   "source": [
    "## PSEUDOCÓDIGO"
   ]
  },
  {
   "cell_type": "markdown",
   "id": "da0d4c8b",
   "metadata": {},
   "source": [
    "**El pseudocódigo del programa será de la siguiente manera**\n",
    "\n",
    "Abrir Base de Datos\n",
    "Seleccionar y extraer los datos de la tabla donde se almacenan los enlaces de los diferentes enlaces a los canales de Telegram<br><br>\n",
    "Extraer los enlaces de telegram<br><br>\n",
    "Para cada una de las cuentas:<br>\n",
    "   &emsp; extraer los datos de la cuentas<br>\n",
    "   &emsp; introducir los datos en la tabla correspondiente<br><br>\n",
    "   &emsp; Para cada uno de los mensajes de la cuenta:<br>\n",
    "   &emsp; &emsp; extraer los datos de los mensajes<br>\n",
    "   &emsp; &emsp; introducir los datos en la tabla correspondiente<br>"
   ]
  },
  {
   "cell_type": "markdown",
   "id": "16eb51c9",
   "metadata": {},
   "source": [
    "## LIBRERÍAS"
   ]
  },
  {
   "cell_type": "markdown",
   "id": "7b02a5e2",
   "metadata": {},
   "source": [
    "Para la correcta extracción y recopilación de los datos, se aplicarán diferentes librerías pero la librería principal es:<br><br>\n",
    "**__SNSCRAPE__**: Librería desarrollada por el usuario de Github JustAnotherArchivist que tiene por misión facilitar la extracción de datos de diferentes Redes Sociales. En este caso en concreto se utilizará el módulo de Telegram, que se puede consultar __[aquí](https://github.com/JustAnotherArchivist/snscrape/blob/master/snscrape/modules/telegram.py)__. Como no tiene documentación, hay que leer y entender el código para su posterior aplicación.<br><br>\n",
    "\n",
    "Otras librerías que se usan son:\n",
    "- **Pandas** : Manipulación de datos\n",
    "- **Mysql.connector**: Conexión con la base de datos\n",
    "- **Codecs**: Normalización de caracteres\n"
   ]
  },
  {
   "cell_type": "markdown",
   "id": "9a30a45e",
   "metadata": {},
   "source": [
    "## PASOS PREVIOS"
   ]
  },
  {
   "cell_type": "markdown",
   "id": "246082cf",
   "metadata": {},
   "source": [
    "Para realizar estos scripts, primeramente se añaden dos tablas a la BBDD con la siguiente sintaxis:\n",
    "\n",
    "- **TABLA PARA PERFILES DE TELEGRAM**:\n",
    "\n",
    "CREATE TABLE IF NOT EXISTS canales_telegram(<br>\n",
    "    &emsp; Nombre VARCHAR(100),<br>\n",
    "\t&emsp; Titulo VARCHAR(150),<br>\n",
    "    &emsp; Suscritos INT,<br>\n",
    "    &emsp; Fotos INT,<br>\n",
    "    &emsp; Videos INT,<br>\n",
    "    &emsp; Documentos INT,<br>\n",
    "    &emsp; Enlances INT<br>\n",
    ")ENGINE = INNODB;<br>\n",
    "\n",
    "\n",
    "\n",
    "- **TABLA PARA LOS MENSAJES DE TELEGRAM**:\n",
    "\n",
    "CREATE TABLE IF NOT EXISTS mensajes_canales_telegram(<br>\n",
    "    &emsp; Nombre VARCHAR(100),<br>\n",
    "    &emsp; Url TEXT,<br>\n",
    "    &emsp; Fecha TIMESTAMP,<br>\n",
    "    &emsp; Contenido TEXT,<br>\n",
    "    &emsp; Enlaces INT<br>\n",
    ")ENGINE = INNODB;<br>\n",
    "\n"
   ]
  },
  {
   "cell_type": "markdown",
   "id": "68d437c3",
   "metadata": {},
   "source": [
    "## CÓDIGO"
   ]
  },
  {
   "cell_type": "markdown",
   "id": "aaaed901",
   "metadata": {},
   "source": [
    "Ya que se tiene todo los requisitos, ahora se abre la conexión con la Base de Datos y se empieza a codificar. <br>\n",
    "Lo primero de todo es importar las librerias que necesitamos"
   ]
  },
  {
   "cell_type": "code",
   "execution_count": null,
   "id": "aaee2cde",
   "metadata": {},
   "outputs": [],
   "source": [
    "#pip install snscrape"
   ]
  },
  {
   "cell_type": "code",
   "execution_count": null,
   "id": "d5c5c63f",
   "metadata": {},
   "outputs": [],
   "source": [
    "import snscrape.modules.twitter as snst\n",
    "import pandas as pd\n",
    "import mysql.connector\n",
    "import codecs"
   ]
  },
  {
   "cell_type": "markdown",
   "id": "1226c8fc",
   "metadata": {},
   "source": [
    "Acto seguido, se abre la conexión de la base de Datos con Python "
   ]
  },
  {
   "cell_type": "code",
   "execution_count": null,
   "id": "c524378e",
   "metadata": {},
   "outputs": [],
   "source": [
    "database = mysql.connector.connect(\n",
    "    host= \"localhost\",\n",
    "    user= \"root\",\n",
    "    passwd= \"\",\n",
    "    database= \"TFG\",\n",
    "    use_unicode = True, \n",
    "    charset=\"utf8mb4\",\n",
    "    collation = \"utf8mb4_general_ci\"\n",
    ")\n",
    "database.set_charset_collation(\"utf8mb4\",\"utf8mb4_general_ci\")\n",
    "\n",
    "cursor= database.cursor()"
   ]
  },
  {
   "cell_type": "markdown",
   "id": "fe1e34b6",
   "metadata": {},
   "source": [
    "Se extraen las cuentas de Twitter de la tabla de la Base de Datos **\"universidades\"**"
   ]
  },
  {
   "cell_type": "code",
   "execution_count": null,
   "id": "5e30bb70",
   "metadata": {},
   "outputs": [],
   "source": [
    "datos = pd.read_sql(\"SELECT * FROM universidades\",database)\n",
    "cuentas_telegram = datos[\"Telegram\"].tolist()\n",
    "print(datos.info())"
   ]
  },
  {
   "cell_type": "markdown",
   "id": "3be68967",
   "metadata": {},
   "source": [
    "Como no todas las universidades tienen cuenta de telegram, se pasará a limpiar la lista."
   ]
  },
  {
   "cell_type": "code",
   "execution_count": null,
   "id": "e9e7d69d",
   "metadata": {},
   "outputs": [],
   "source": [
    "for a in range(len(cuentas_telegram)-1,-1,-1):\n",
    "    if cuentas_telegram[a] == None or objeto == \"\":\n",
    "        cuentas_telegram.pop(a)\n",
    "print(cuentas_telegram, len(cuentas_telegram))\n",
    "        "
   ]
  },
  {
   "cell_type": "markdown",
   "id": "bb9bb3a9",
   "metadata": {},
   "source": [
    "Conociendo estos, datos y haciendo un analisis de relación tiempo- esfuerzo, se decide recopilar los datos de los perfiles de manera manual mientras se ejecuta el script que recoge los mensajes. De esta manera se ahorra escribir y ejecutar un script."
   ]
  },
  {
   "cell_type": "code",
   "execution_count": null,
   "id": "8dc65ad1",
   "metadata": {},
   "outputs": [],
   "source": [
    "## EXTRACCIÓN Y PROCESAMIENTO DE MENSAJES DE TELEGRAM##\n",
    "for titulo in cuentas_telegram:\n",
    "    print(titulo)\n",
    "    for i,post in enumerate(snstel.TelegramChannelScraper(titulo).get_items()):\n",
    "        fecha = post.date.strftime('%Y-%m-%d %H:%M:%S')\n",
    "        links = \" , \".join(post.outlinks)\n",
    "        post_info = (\n",
    "                titulo,\n",
    "                post.url,\n",
    "                fecha,\n",
    "                post.content,\n",
    "                len(links))\n",
    "        cursor.execute(\"INSERT INTO mensajes_canales_telegram VALUES(%s,%s,%s,%s,%s)\",post_info)\n",
    "        database.commit()"
   ]
  },
  {
   "cell_type": "markdown",
   "id": "fafa951e",
   "metadata": {},
   "source": [
    "### Con este pequeño script están los datos de la red social Twitter extraidos.<br><br> Duración aproximada 3h"
   ]
  },
  {
   "cell_type": "code",
   "execution_count": null,
   "id": "b48961d9",
   "metadata": {},
   "outputs": [],
   "source": []
  }
 ],
 "metadata": {
  "kernelspec": {
   "display_name": "Python 3",
   "language": "python",
   "name": "python3"
  },
  "language_info": {
   "codemirror_mode": {
    "name": "ipython",
    "version": 3
   },
   "file_extension": ".py",
   "mimetype": "text/x-python",
   "name": "python",
   "nbconvert_exporter": "python",
   "pygments_lexer": "ipython3",
   "version": "3.8.8"
  }
 },
 "nbformat": 4,
 "nbformat_minor": 5
}
