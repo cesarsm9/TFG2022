{
 "cells": [
  {
   "cell_type": "markdown",
   "id": "47a6a402",
   "metadata": {},
   "source": [
    "# EXTRACCIÓN DE LOS DATOS DE YOUTUBE"
   ]
  },
  {
   "cell_type": "markdown",
   "id": "391da74f",
   "metadata": {},
   "source": [
    "Para la red social de Youtube, se extraerán datos con un único  script.<br>\n",
    "- Script para sacar información de los perfiles y videos de Youtube introducirlos en la BBDD"
   ]
  },
  {
   "cell_type": "markdown",
   "id": "5c72dad4",
   "metadata": {},
   "source": [
    "## PSEUDOCÓDIGO"
   ]
  },
  {
   "cell_type": "markdown",
   "id": "da0d4c8b",
   "metadata": {},
   "source": [
    "**El psudocódigo del programa será de la siguiente manera**\n",
    "\n",
    "Abrir Base de Datos\n",
    "Seleccionar y extraer los datos de la tabla donde se almacenan los nombres de las diferentes cuentas de Youtube<br><br>\n",
    "Extraer las cuentas de youtube<br><br>\n",
    "Para cada una de las cuentas:<br>\n",
    "   &emsp; encontrar los enlaces de los videos<br>\n",
    "   &emsp; para cada uno de los enlaces de los videos:<br>\n",
    "   &emsp; &emsp; extraer los datos de la cuentas<br>\n",
    "   &emsp; &emsp; &emsp; titulo, nombre, duracion, visualizaciones, fecha\n",
    "   &emsp; &emsp; introducir los datos en la tabla correspondiente<br><br>"
   ]
  },
  {
   "cell_type": "markdown",
   "id": "16eb51c9",
   "metadata": {},
   "source": [
    "## LIBRERÍAS"
   ]
  },
  {
   "cell_type": "markdown",
   "id": "7b02a5e2",
   "metadata": {},
   "source": [
    "Para la correcta extracción y recopilación de los datos, se aplicarán diferentes librerías pero la librería principal es:<br><br>\n",
    "**__PYTUBE__**: La librería de Pytbe es una librería especializada en descargar y obtener información de los videos de Youtube, se puede consultar la documentación  __[aquí](https://pytube.io/en/latest/)__.<br><br>\n",
    "**__SELENIUM__**: Es un entorno de pruebas de software para aplicaciones basadas en la web. Su función principal es realizar web scraping de manera automatizada mediante diferentes métodos posibles como HTML, CSS, XPATH, etc..<br><br>Esto es gracias a la implantación de un driver que automatizará el navegador y que se puede descargar __[aquí](https://selenium-python.readthedocs.io/installation.html)__.<br><br>\n",
    "La documentación de Selenium para Python se puede consultar __[aquí](https://selenium-python.readthedocs.io/getting-started.htmly)__.<br>\n",
    "\n",
    "La librería selenium no es como otras librerías usadas en otras redes sociales que son especializadas en la extracción de datos en esa red social, selenium recorre la web y es el programador el que recoge los datos.<br><br>\n",
    "\n",
    "Otras librerías que se usan son:\n",
    "- **Pandas** : Manipulación de datos\n",
    "- **Mysql.connector**: Conexión con la base de datos\n",
    "- **Codecs**: Normalización de caracteres\n"
   ]
  },
  {
   "cell_type": "markdown",
   "id": "9a30a45e",
   "metadata": {},
   "source": [
    "## PASOS PREVIOS"
   ]
  },
  {
   "cell_type": "markdown",
   "id": "246082cf",
   "metadata": {},
   "source": [
    "Para realizar estos scripts, primeramente se añade una tabla a la BBDD con la siguiente sintaxis:\n",
    "\n",
    "- **TABLA PARA VIDEOS YOUTUBE**:\n",
    "\n",
    "CREATE TABLE IF NOT EXISTS videos_yotube(<br>\n",
    "    &emsp; ID INT AUTOINCREMENT,<br>\n",
    "    &emsp; Universidad VARCHAR(100),<br>\n",
    "\t&emsp; Nombre VARCHAR(50),<br>\n",
    "    &emsp; Titulo VARCHAR(200),<br>\n",
    "    &emsp; Descripcion VARCHAR(200),<br>\n",
    "    &emsp; Fecha DATETIME,<br>\n",
    "    &emsp; Seguidores BIGINT,<br>\n",
    "    &emsp; Visualizaciones BIGINT,<br>\n",
    "    &emsp; Duracion BIGINT,<br>\n",
    "    &emsp; Palabras_Clave TEXT,<br>\n",
    "    &emsp; PRIMARY KEY(ID))<br>\n",
    ")ENGINE = INNODB;<br>\n",
    "\n"
   ]
  },
  {
   "cell_type": "markdown",
   "id": "68d437c3",
   "metadata": {},
   "source": [
    "## CÓDIGO"
   ]
  },
  {
   "cell_type": "markdown",
   "id": "aaaed901",
   "metadata": {},
   "source": [
    "Ya que se tiene todo los requisitos, ahora se abre la conexión con la Base de Datos y se empieza a codificar. <br>\n",
    "Lo primero de todo es importar las librerias que necesitamos"
   ]
  },
  {
   "cell_type": "code",
   "execution_count": null,
   "id": "aaee2cde",
   "metadata": {},
   "outputs": [],
   "source": [
    "import pandas as pd\n",
    "import mysql.connector\n",
    "import codecs\n",
    "from pytube import YouTube\n",
    "codecs.register(lambda name: codecs.lookup('utf8') if name == 'utf8mb4' else None)"
   ]
  },
  {
   "cell_type": "code",
   "execution_count": null,
   "id": "d5c5c63f",
   "metadata": {},
   "outputs": [],
   "source": [
    "from time import sleep\n",
    "from selenium import webdriver\n",
    "from selenium.webdriver.chrome.options import Options\n",
    "from selenium.webdriver.common.by import By\n",
    "from selenium.webdriver.support.ui import WebDriverWait\n",
    "from selenium.webdriver.support import expected_conditions as EC"
   ]
  },
  {
   "cell_type": "markdown",
   "id": "1226c8fc",
   "metadata": {},
   "source": [
    "Acto seguido, se abre la conexión de la base de Datos con Python "
   ]
  },
  {
   "cell_type": "code",
   "execution_count": null,
   "id": "c524378e",
   "metadata": {},
   "outputs": [],
   "source": [
    "database = mysql.connector.connect(\n",
    "    host= \"localhost\",\n",
    "    user= \"root\",\n",
    "    passwd= \"\",\n",
    "    database= \"TFG\",\n",
    "    use_unicode = True, \n",
    "    charset=\"utf8mb4\",\n",
    "    collation = \"utf8mb4_general_ci\"\n",
    ")\n",
    "database.set_charset_collation(\"utf8mb4\",\"utf8mb4_general_ci\")\n",
    "\n",
    "cursor= database.cursor()"
   ]
  },
  {
   "cell_type": "markdown",
   "id": "fe1e34b6",
   "metadata": {},
   "source": [
    "Se extraen las cuentas de Youtube de la tabla de la Base de Datos **\"universidades\"**"
   ]
  },
  {
   "cell_type": "code",
   "execution_count": null,
   "id": "5e30bb70",
   "metadata": {},
   "outputs": [],
   "source": [
    "datos = pd.read_excel(r\"C:\\Users\\cesar\\Desktop\\Scraping TFG\\SNspaUNIV.xlsx\", sheet_name= \"WEB_SN\")\n",
    "cuentas_youtube = datos[\"Youtube\"].tolist()\n",
    "universidad = datos[\"Universidad\"].tolist()\n",
    "for a in range(len(cuentas_youtube)-1,-1,-1):\n",
    "    if type(cuentas_youtube[a]) != str:\n",
    "        cuentas_youtube.remove(cuentas_youtube[a])\n",
    "        universidad.remove(universidad[a])\n",
    "print( len(cuentas_youtube),len(universidad))"
   ]
  },
  {
   "cell_type": "markdown",
   "id": "360da04a",
   "metadata": {},
   "source": [
    "Como no todas las Universidades tienen youtube, se realiza una limpieza.<br>\n",
    "Ahora se empieza a codificar empezando con selenium para recoger los enlaces de los videos."
   ]
  },
  {
   "cell_type": "code",
   "execution_count": null,
   "id": "8b2a917d",
   "metadata": {},
   "outputs": [],
   "source": [
    "opts= Options()\n",
    "opts.add_argument(\"--user-agent=Mozilla/5.0 (iPad; CPU OS 6_0 like Mac OS X) AppleWebKit/536.26 (KHTML, like Gecko) Version/6.0 Mobile/10A5355d Safari/8536.25\")\n",
    "opts.add_argument(\"--start-maximized\")\n",
    "opts.add_experimental_option('excludeSwitches', ['enable-logging'])\n",
    "\n",
    "driver= webdriver.Chrome('./chromedriver.exe', options=opts)\n",
    "        "
   ]
  },
  {
   "cell_type": "markdown",
   "id": "bfeebfb0",
   "metadata": {},
   "source": [
    "Se generan las opciones y se crea el driver que servirá para crear el navegador.\n",
    "Acto seguido se implementa el código entero con un bucle anidado de nivel 2 en el que el primer bucle recoge los enlaces de los videos y el interno recoge la cada información de cada enlace."
   ]
  },
  {
   "cell_type": "code",
   "execution_count": null,
   "id": "8dc65ad1",
   "metadata": {},
   "outputs": [],
   "source": [
    "for a in range(len(cuentas_youtube)):\n",
    "    driver.get(cuentas_youtube[a])## empieza escogiendo una universidad\n",
    "    try: # lo primero de todo es logearse si no se está y la página emerge una solicitud de  autentificación\n",
    "        driver.find_element_by_css_selector('a.WpHeLc.VfPpkd-mRLv6.VfPpkd-RLmnJb').click()\n",
    "        usuario =  driver.find_element(By.XPATH, '//input[@name=\"identifier\"]')\n",
    "        usuario.send_keys(\"100383702@alumnos.uc3m.es\")\n",
    "        driver.find_element(By.XPATH, '//button[@name=\"action\"]').click()\n",
    "        password = driver.find_element(By.XPATH, '//input[@name=\"Passwd\"]')\n",
    "        password.send_keys(\"cesar999\")\n",
    "        driver.find_element(By.XPATH, \"//button[@name = 'action']\").click()\n",
    "    except:\n",
    "        try:\n",
    "            driver.find_element(By.XPATH, \"//button[@name = 'Email']\").click()\n",
    "            password = driver.find_element(By.XPATH, '//input[@name=\"Passwd\"]')\n",
    "            password.send_keys(\"cesar999\")\n",
    "            password = driver.find_element(By.XPATH, '//input[@class=\"MK9CEd MVpUfe\"]').click()\n",
    "        except:\n",
    "            pass\n",
    "    sleep(2)#recofemos el titulo y los seguidores del perfil\n",
    "    titulo = driver.find_element_by_css_selector('h1.c4-tabbed-header-title').text\n",
    "    seguidores = driver.find_element_by_css_selector('span.c4-tabbed-header-subscriber-count.secondary-text').text\n",
    "    try:# se procesan y limpian\n",
    "        seguidores = int(seguidores.split()[0])\n",
    "    except:\n",
    "        try:\n",
    "            seguidores = seguidores.split()[0]\n",
    "            seguidores = int(seguidores.replace(\".\",\"\"))\n",
    "        except:\n",
    "            seguidores = None\n",
    "    driver.find_elements_by_css_selector('a.scbrr-tab.center')[1].click()\n",
    "    sleep(2)\n",
    "\n",
    "    screen_height = driver.execute_script(\"return window.screen.height;\")\n",
    "    i = 1\n",
    "    while True: #hacemos scroll hasta que se acabe la pagina\n",
    "        # scroll one screen height each time\n",
    "        driver.execute_script(\"window.scrollTo(0, {screen_height}*{i});\".format(screen_height=screen_height, i=i))  \n",
    "        i += 1\n",
    "        sleep(1)\n",
    "        # update scroll height each time after scrolled, as the scroll height can change after we scrolled the page\n",
    "        scroll_height = driver.execute_script(\"return document.body.scrollHeight;\")  \n",
    "        # Break the loop when the height we need to scroll to is larger than the total scroll height\n",
    "        if (screen_height) * i > scroll_height:\n",
    "            sleep(5)\n",
    "            scroll_height = driver.execute_script(\"return document.body.scrollHeight;\")\n",
    "            if (screen_height) * i > scroll_height:\n",
    "                break\n",
    "    sleep(1)\n",
    "\n",
    "    videos = driver.find_elements_by_xpath(\"//a[@class='compact-media-item-metadata-content']\") #se recogen los contenedores de los videos\n",
    "    links = []\n",
    "    for video in videos:\n",
    "        links.append(video.get_attribute(\"href\"))# se recogen los enlaces\n",
    "    print(len(links))\n",
    "\n",
    "    for b in range(len(links)):#con la libreria de pytube se extaren los datos\n",
    "        yt = YouTube(links[b])\n",
    "        datos = [universidad[a],titulo,seguidores,yt.title,yt.description,\" ; \".join(yt.keywords), yt.length, yt.publish_date.strftime('%Y-%m-%d'),yt.views, yt.rating]\n",
    "        \n",
    "        #se introducen los datos\n",
    "        cursor.execute(\"INSERT INTO videos_youtube VALUES(%s,%s,%s,%s,%s,%s,%s,%s,%s,%s)\",datos)\n",
    "        database.commit()\n"
   ]
  },
  {
   "cell_type": "markdown",
   "id": "fafa951e",
   "metadata": {},
   "source": [
    "### Con este pequeño script están los datos de la red social Youtube extraidos.<br><br> Duración aproximada 2h"
   ]
  },
  {
   "cell_type": "code",
   "execution_count": null,
   "id": "b48961d9",
   "metadata": {},
   "outputs": [],
   "source": []
  }
 ],
 "metadata": {
  "kernelspec": {
   "display_name": "Python 3.9.5 64-bit",
   "language": "python",
   "name": "python3"
  },
  "language_info": {
   "codemirror_mode": {
    "name": "ipython",
    "version": 3
   },
   "file_extension": ".py",
   "mimetype": "text/x-python",
   "name": "python",
   "nbconvert_exporter": "python",
   "pygments_lexer": "ipython3",
   "version": "3.9.5"
  },
  "vscode": {
   "interpreter": {
    "hash": "9b46891482e43448fca434b48535568d1fb045c476689b999f0b2c31bd471c5b"
   }
  }
 },
 "nbformat": 4,
 "nbformat_minor": 5
}
